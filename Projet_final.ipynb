{
  "cells": [
    {
      "cell_type": "markdown",
      "metadata": {
        "id": "view-in-github",
        "colab_type": "text"
      },
      "source": [
        "<a href=\"https://colab.research.google.com/github/Tefong35/TefongEugene/blob/main/Projet_final.ipynb\" target=\"_parent\"><img src=\"https://colab.research.google.com/assets/colab-badge.svg\" alt=\"Open In Colab\"/></a>"
      ]
    },
    {
      "cell_type": "code",
      "execution_count": null,
      "metadata": {
        "colab": {
          "base_uri": "https://localhost:8080/"
        },
        "id": "5qKugwGC8dCS",
        "outputId": "f3ad3599-1fa0-49b6-e58e-d46580c30020"
      },
      "outputs": [
        {
          "output_type": "stream",
          "name": "stdout",
          "text": [
            "Drive already mounted at /content/drive; to attempt to forcibly remount, call drive.mount(\"/content/drive\", force_remount=True).\n"
          ]
        }
      ],
      "source": [
        "from google.colab import drive\n",
        "drive.mount('/content/drive')"
      ]
    },
    {
      "cell_type": "code",
      "execution_count": null,
      "metadata": {
        "id": "UADOZBKLak26"
      },
      "outputs": [],
      "source": [
        "#n=1000\n",
        "#l=[]\n",
        "#while (1):\n",
        "#  #n+=1000\n",
        "#  l.append(\"1\")"
      ]
    },
    {
      "cell_type": "markdown",
      "metadata": {
        "id": "dYAqiDDp92Vh"
      },
      "source": [
        "# Accident Routiers en France\n",
        "**Objectif: Prédire la gravité des accidents routiers en France.**\n"
      ]
    },
    {
      "cell_type": "markdown",
      "metadata": {
        "id": "17lR8iIWeAuj"
      },
      "source": [
        "# Classification Multiclasse/Binaire - Analyse Factorielle\n",
        "\n",
        ">\n",
        "\n"
      ]
    },
    {
      "cell_type": "code",
      "execution_count": null,
      "metadata": {
        "id": "6318WcswER30"
      },
      "outputs": [],
      "source": [
        "import numpy as np\n",
        "import pandas as pd\n",
        "import matplotlib.pyplot as plt\n",
        "import matplotlib.ticker as ticker\n",
        "import seaborn as sns\n",
        "\n",
        "from sklearn.preprocessing import OrdinalEncoder, OneHotEncoder\n",
        "from sklearn.preprocessing import StandardScaler\n",
        "\n",
        "from sklearn.model_selection import StratifiedShuffleSplit, GridSearchCV, train_test_split\n",
        "from sklearn.linear_model import SGDClassifier, LogisticRegression\n",
        "from sklearn.ensemble import RandomForestClassifier, AdaBoostClassifier, GradientBoostingClassifier\n",
        "from sklearn.tree import DecisionTreeClassifier\n",
        "from sklearn.neural_network import MLPClassifier\n",
        "\n",
        "from sklearn.metrics import classification_report, accuracy_score, confusion_matrix\n",
        "from sklearn.metrics import precision_score, recall_score, f1_score"
      ]
    },
    {
      "cell_type": "code",
      "execution_count": null,
      "metadata": {
        "colab": {
          "base_uri": "https://localhost:8080/"
        },
        "id": "s_Z8UgblETt-",
        "outputId": "683cefdc-4563-4c7b-8dc5-9714049696a3"
      },
      "outputs": [
        {
          "output_type": "stream",
          "name": "stdout",
          "text": [
            "Collecting factor_analyzer\n",
            "  Downloading factor_analyzer-0.5.0.tar.gz (42 kB)\n",
            "\u001b[?25l     \u001b[90m━━━━━━━━━━━━━━━━━━━━━━━━━━━━━━━━━━━━━━━━\u001b[0m \u001b[32m0.0/42.5 kB\u001b[0m \u001b[31m?\u001b[0m eta \u001b[36m-:--:--\u001b[0m\r\u001b[2K     \u001b[90m━━━━━━━━━━━━━━━━━━━━━━━━━━━━━━━━━━━━━━━━\u001b[0m \u001b[32m42.5/42.5 kB\u001b[0m \u001b[31m2.2 MB/s\u001b[0m eta \u001b[36m0:00:00\u001b[0m\n",
            "\u001b[?25h  Installing build dependencies ... \u001b[?25l\u001b[?25hdone\n",
            "  Getting requirements to build wheel ... \u001b[?25l\u001b[?25hdone\n",
            "  Preparing metadata (pyproject.toml) ... \u001b[?25l\u001b[?25hdone\n",
            "Requirement already satisfied: pandas in /usr/local/lib/python3.10/dist-packages (from factor_analyzer) (1.5.3)\n",
            "Requirement already satisfied: scipy in /usr/local/lib/python3.10/dist-packages (from factor_analyzer) (1.11.3)\n",
            "Requirement already satisfied: numpy in /usr/local/lib/python3.10/dist-packages (from factor_analyzer) (1.23.5)\n",
            "Requirement already satisfied: scikit-learn in /usr/local/lib/python3.10/dist-packages (from factor_analyzer) (1.2.2)\n",
            "Collecting pre-commit (from factor_analyzer)\n",
            "  Downloading pre_commit-3.4.0-py2.py3-none-any.whl (203 kB)\n",
            "\u001b[2K     \u001b[90m━━━━━━━━━━━━━━━━━━━━━━━━━━━━━━━━━━━━━━━\u001b[0m \u001b[32m203.7/203.7 kB\u001b[0m \u001b[31m5.1 MB/s\u001b[0m eta \u001b[36m0:00:00\u001b[0m\n",
            "\u001b[?25hRequirement already satisfied: python-dateutil>=2.8.1 in /usr/local/lib/python3.10/dist-packages (from pandas->factor_analyzer) (2.8.2)\n",
            "Requirement already satisfied: pytz>=2020.1 in /usr/local/lib/python3.10/dist-packages (from pandas->factor_analyzer) (2023.3.post1)\n",
            "Collecting cfgv>=2.0.0 (from pre-commit->factor_analyzer)\n",
            "  Downloading cfgv-3.4.0-py2.py3-none-any.whl (7.2 kB)\n",
            "Collecting identify>=1.0.0 (from pre-commit->factor_analyzer)\n",
            "  Downloading identify-2.5.30-py2.py3-none-any.whl (98 kB)\n",
            "\u001b[2K     \u001b[90m━━━━━━━━━━━━━━━━━━━━━━━━━━━━━━━━━━━━━━━━\u001b[0m \u001b[32m98.9/98.9 kB\u001b[0m \u001b[31m5.7 MB/s\u001b[0m eta \u001b[36m0:00:00\u001b[0m\n",
            "\u001b[?25hCollecting nodeenv>=0.11.1 (from pre-commit->factor_analyzer)\n",
            "  Downloading nodeenv-1.8.0-py2.py3-none-any.whl (22 kB)\n",
            "Requirement already satisfied: pyyaml>=5.1 in /usr/local/lib/python3.10/dist-packages (from pre-commit->factor_analyzer) (6.0.1)\n",
            "Collecting virtualenv>=20.10.0 (from pre-commit->factor_analyzer)\n",
            "  Downloading virtualenv-20.24.5-py3-none-any.whl (3.7 MB)\n",
            "\u001b[2K     \u001b[90m━━━━━━━━━━━━━━━━━━━━━━━━━━━━━━━━━━━━━━━━\u001b[0m \u001b[32m3.7/3.7 MB\u001b[0m \u001b[31m15.7 MB/s\u001b[0m eta \u001b[36m0:00:00\u001b[0m\n",
            "\u001b[?25hRequirement already satisfied: joblib>=1.1.1 in /usr/local/lib/python3.10/dist-packages (from scikit-learn->factor_analyzer) (1.3.2)\n",
            "Requirement already satisfied: threadpoolctl>=2.0.0 in /usr/local/lib/python3.10/dist-packages (from scikit-learn->factor_analyzer) (3.2.0)\n",
            "Requirement already satisfied: setuptools in /usr/local/lib/python3.10/dist-packages (from nodeenv>=0.11.1->pre-commit->factor_analyzer) (67.7.2)\n",
            "Requirement already satisfied: six>=1.5 in /usr/local/lib/python3.10/dist-packages (from python-dateutil>=2.8.1->pandas->factor_analyzer) (1.16.0)\n",
            "Collecting distlib<1,>=0.3.7 (from virtualenv>=20.10.0->pre-commit->factor_analyzer)\n",
            "  Downloading distlib-0.3.7-py2.py3-none-any.whl (468 kB)\n",
            "\u001b[2K     \u001b[90m━━━━━━━━━━━━━━━━━━━━━━━━━━━━━━━━━━━━━━\u001b[0m \u001b[32m468.9/468.9 kB\u001b[0m \u001b[31m23.6 MB/s\u001b[0m eta \u001b[36m0:00:00\u001b[0m\n",
            "\u001b[?25hRequirement already satisfied: filelock<4,>=3.12.2 in /usr/local/lib/python3.10/dist-packages (from virtualenv>=20.10.0->pre-commit->factor_analyzer) (3.12.4)\n",
            "Requirement already satisfied: platformdirs<4,>=3.9.1 in /usr/local/lib/python3.10/dist-packages (from virtualenv>=20.10.0->pre-commit->factor_analyzer) (3.10.0)\n",
            "Building wheels for collected packages: factor_analyzer\n",
            "  Building wheel for factor_analyzer (pyproject.toml) ... \u001b[?25l\u001b[?25hdone\n",
            "  Created wheel for factor_analyzer: filename=factor_analyzer-0.5.0-py2.py3-none-any.whl size=42487 sha256=ce9d12fd8c4a4eabc9d6de88c8833e272f539d3c59a95e38339365f690539fe1\n",
            "  Stored in directory: /root/.cache/pip/wheels/74/a2/6c/26fb1addf1ce6c60a8cef8397f2999f0a1e6e2fcddc8abf33e\n",
            "Successfully built factor_analyzer\n",
            "Installing collected packages: distlib, virtualenv, nodeenv, identify, cfgv, pre-commit, factor_analyzer\n",
            "Successfully installed cfgv-3.4.0 distlib-0.3.7 factor_analyzer-0.5.0 identify-2.5.30 nodeenv-1.8.0 pre-commit-3.4.0 virtualenv-20.24.5\n"
          ]
        }
      ],
      "source": [
        "!pip install factor_analyzer\n",
        "\n",
        "from factor_analyzer import FactorAnalyzer\n",
        "from factor_analyzer.factor_analyzer import calculate_bartlett_sphericity\n",
        "from factor_analyzer.factor_analyzer import calculate_kmo"
      ]
    },
    {
      "cell_type": "code",
      "execution_count": null,
      "metadata": {
        "colab": {
          "base_uri": "https://localhost:8080/",
          "height": 290
        },
        "id": "c0Zi1tejsVWS",
        "outputId": "e692bc4e-c5dc-49d7-cd44-008c2cacb012"
      },
      "outputs": [
        {
          "output_type": "execute_result",
          "data": {
            "text/plain": [
              "              Num_Acc  grav num_veh    lum    agg   age  Casque  Ceinture  \\\n",
              "1180210  201100052043   1.0     A01  False   True  37.0       0         1   \n",
              "1981261  201700047177   1.0     B01  False  False  44.0       0         1   \n",
              "1902175  201700011383   1.0     B01  False  False  24.0       0         0   \n",
              "811605   200900030569   4.0     A01  False  False  37.0       0         1   \n",
              "86827    200500038464   3.0     B02   True  False  35.0       0         1   \n",
              "\n",
              "         Dispositif_Enfant  Equipement_Réfléchissant  ... region_Corse  \\\n",
              "1180210                  0                         0  ...            0   \n",
              "1981261                  0                         0  ...            0   \n",
              "1902175                  0                         0  ...            0   \n",
              "811605                   0                         0  ...            0   \n",
              "86827                    0                         0  ...            0   \n",
              "\n",
              "         region_Grand Est  region_Hauts-de-France  region_Normandie  \\\n",
              "1180210                 0                       0                 0   \n",
              "1981261                 0                       0                 0   \n",
              "1902175                 0                       0                 0   \n",
              "811605                  0                       0                 0   \n",
              "86827                   0                       0                 0   \n",
              "\n",
              "         region_Nouvelle-Aquitaine  region_Occitanie  region_Outre-Mer  \\\n",
              "1180210                          0                 0                 0   \n",
              "1981261                          0                 0                 0   \n",
              "1902175                          0                 0                 0   \n",
              "811605                           1                 0                 0   \n",
              "86827                            0                 1                 0   \n",
              "\n",
              "         region_Pays de la Loire  region_Provence-Alpes-Côte d'Azur  \\\n",
              "1180210                        0                                  0   \n",
              "1981261                        0                                  0   \n",
              "1902175                        1                                  0   \n",
              "811605                         0                                  0   \n",
              "86827                          0                                  0   \n",
              "\n",
              "         region_Île-de-France  \n",
              "1180210                     1  \n",
              "1981261                     1  \n",
              "1902175                     0  \n",
              "811605                      0  \n",
              "86827                       0  \n",
              "\n",
              "[5 rows x 93 columns]"
            ],
            "text/html": [
              "\n",
              "  <div id=\"df-fd6dcf5b-a50a-4292-9761-ae822beaa8ba\" class=\"colab-df-container\">\n",
              "    <div>\n",
              "<style scoped>\n",
              "    .dataframe tbody tr th:only-of-type {\n",
              "        vertical-align: middle;\n",
              "    }\n",
              "\n",
              "    .dataframe tbody tr th {\n",
              "        vertical-align: top;\n",
              "    }\n",
              "\n",
              "    .dataframe thead th {\n",
              "        text-align: right;\n",
              "    }\n",
              "</style>\n",
              "<table border=\"1\" class=\"dataframe\">\n",
              "  <thead>\n",
              "    <tr style=\"text-align: right;\">\n",
              "      <th></th>\n",
              "      <th>Num_Acc</th>\n",
              "      <th>grav</th>\n",
              "      <th>num_veh</th>\n",
              "      <th>lum</th>\n",
              "      <th>agg</th>\n",
              "      <th>age</th>\n",
              "      <th>Casque</th>\n",
              "      <th>Ceinture</th>\n",
              "      <th>Dispositif_Enfant</th>\n",
              "      <th>Equipement_Réfléchissant</th>\n",
              "      <th>...</th>\n",
              "      <th>region_Corse</th>\n",
              "      <th>region_Grand Est</th>\n",
              "      <th>region_Hauts-de-France</th>\n",
              "      <th>region_Normandie</th>\n",
              "      <th>region_Nouvelle-Aquitaine</th>\n",
              "      <th>region_Occitanie</th>\n",
              "      <th>region_Outre-Mer</th>\n",
              "      <th>region_Pays de la Loire</th>\n",
              "      <th>region_Provence-Alpes-Côte d'Azur</th>\n",
              "      <th>region_Île-de-France</th>\n",
              "    </tr>\n",
              "  </thead>\n",
              "  <tbody>\n",
              "    <tr>\n",
              "      <th>1180210</th>\n",
              "      <td>201100052043</td>\n",
              "      <td>1.0</td>\n",
              "      <td>A01</td>\n",
              "      <td>False</td>\n",
              "      <td>True</td>\n",
              "      <td>37.0</td>\n",
              "      <td>0</td>\n",
              "      <td>1</td>\n",
              "      <td>0</td>\n",
              "      <td>0</td>\n",
              "      <td>...</td>\n",
              "      <td>0</td>\n",
              "      <td>0</td>\n",
              "      <td>0</td>\n",
              "      <td>0</td>\n",
              "      <td>0</td>\n",
              "      <td>0</td>\n",
              "      <td>0</td>\n",
              "      <td>0</td>\n",
              "      <td>0</td>\n",
              "      <td>1</td>\n",
              "    </tr>\n",
              "    <tr>\n",
              "      <th>1981261</th>\n",
              "      <td>201700047177</td>\n",
              "      <td>1.0</td>\n",
              "      <td>B01</td>\n",
              "      <td>False</td>\n",
              "      <td>False</td>\n",
              "      <td>44.0</td>\n",
              "      <td>0</td>\n",
              "      <td>1</td>\n",
              "      <td>0</td>\n",
              "      <td>0</td>\n",
              "      <td>...</td>\n",
              "      <td>0</td>\n",
              "      <td>0</td>\n",
              "      <td>0</td>\n",
              "      <td>0</td>\n",
              "      <td>0</td>\n",
              "      <td>0</td>\n",
              "      <td>0</td>\n",
              "      <td>0</td>\n",
              "      <td>0</td>\n",
              "      <td>1</td>\n",
              "    </tr>\n",
              "    <tr>\n",
              "      <th>1902175</th>\n",
              "      <td>201700011383</td>\n",
              "      <td>1.0</td>\n",
              "      <td>B01</td>\n",
              "      <td>False</td>\n",
              "      <td>False</td>\n",
              "      <td>24.0</td>\n",
              "      <td>0</td>\n",
              "      <td>0</td>\n",
              "      <td>0</td>\n",
              "      <td>0</td>\n",
              "      <td>...</td>\n",
              "      <td>0</td>\n",
              "      <td>0</td>\n",
              "      <td>0</td>\n",
              "      <td>0</td>\n",
              "      <td>0</td>\n",
              "      <td>0</td>\n",
              "      <td>0</td>\n",
              "      <td>1</td>\n",
              "      <td>0</td>\n",
              "      <td>0</td>\n",
              "    </tr>\n",
              "    <tr>\n",
              "      <th>811605</th>\n",
              "      <td>200900030569</td>\n",
              "      <td>4.0</td>\n",
              "      <td>A01</td>\n",
              "      <td>False</td>\n",
              "      <td>False</td>\n",
              "      <td>37.0</td>\n",
              "      <td>0</td>\n",
              "      <td>1</td>\n",
              "      <td>0</td>\n",
              "      <td>0</td>\n",
              "      <td>...</td>\n",
              "      <td>0</td>\n",
              "      <td>0</td>\n",
              "      <td>0</td>\n",
              "      <td>0</td>\n",
              "      <td>1</td>\n",
              "      <td>0</td>\n",
              "      <td>0</td>\n",
              "      <td>0</td>\n",
              "      <td>0</td>\n",
              "      <td>0</td>\n",
              "    </tr>\n",
              "    <tr>\n",
              "      <th>86827</th>\n",
              "      <td>200500038464</td>\n",
              "      <td>3.0</td>\n",
              "      <td>B02</td>\n",
              "      <td>True</td>\n",
              "      <td>False</td>\n",
              "      <td>35.0</td>\n",
              "      <td>0</td>\n",
              "      <td>1</td>\n",
              "      <td>0</td>\n",
              "      <td>0</td>\n",
              "      <td>...</td>\n",
              "      <td>0</td>\n",
              "      <td>0</td>\n",
              "      <td>0</td>\n",
              "      <td>0</td>\n",
              "      <td>0</td>\n",
              "      <td>1</td>\n",
              "      <td>0</td>\n",
              "      <td>0</td>\n",
              "      <td>0</td>\n",
              "      <td>0</td>\n",
              "    </tr>\n",
              "  </tbody>\n",
              "</table>\n",
              "<p>5 rows × 93 columns</p>\n",
              "</div>\n",
              "    <div class=\"colab-df-buttons\">\n",
              "\n",
              "  <div class=\"colab-df-container\">\n",
              "    <button class=\"colab-df-convert\" onclick=\"convertToInteractive('df-fd6dcf5b-a50a-4292-9761-ae822beaa8ba')\"\n",
              "            title=\"Convert this dataframe to an interactive table.\"\n",
              "            style=\"display:none;\">\n",
              "\n",
              "  <svg xmlns=\"http://www.w3.org/2000/svg\" height=\"24px\" viewBox=\"0 -960 960 960\">\n",
              "    <path d=\"M120-120v-720h720v720H120Zm60-500h600v-160H180v160Zm220 220h160v-160H400v160Zm0 220h160v-160H400v160ZM180-400h160v-160H180v160Zm440 0h160v-160H620v160ZM180-180h160v-160H180v160Zm440 0h160v-160H620v160Z\"/>\n",
              "  </svg>\n",
              "    </button>\n",
              "\n",
              "  <style>\n",
              "    .colab-df-container {\n",
              "      display:flex;\n",
              "      gap: 12px;\n",
              "    }\n",
              "\n",
              "    .colab-df-convert {\n",
              "      background-color: #E8F0FE;\n",
              "      border: none;\n",
              "      border-radius: 50%;\n",
              "      cursor: pointer;\n",
              "      display: none;\n",
              "      fill: #1967D2;\n",
              "      height: 32px;\n",
              "      padding: 0 0 0 0;\n",
              "      width: 32px;\n",
              "    }\n",
              "\n",
              "    .colab-df-convert:hover {\n",
              "      background-color: #E2EBFA;\n",
              "      box-shadow: 0px 1px 2px rgba(60, 64, 67, 0.3), 0px 1px 3px 1px rgba(60, 64, 67, 0.15);\n",
              "      fill: #174EA6;\n",
              "    }\n",
              "\n",
              "    .colab-df-buttons div {\n",
              "      margin-bottom: 4px;\n",
              "    }\n",
              "\n",
              "    [theme=dark] .colab-df-convert {\n",
              "      background-color: #3B4455;\n",
              "      fill: #D2E3FC;\n",
              "    }\n",
              "\n",
              "    [theme=dark] .colab-df-convert:hover {\n",
              "      background-color: #434B5C;\n",
              "      box-shadow: 0px 1px 3px 1px rgba(0, 0, 0, 0.15);\n",
              "      filter: drop-shadow(0px 1px 2px rgba(0, 0, 0, 0.3));\n",
              "      fill: #FFFFFF;\n",
              "    }\n",
              "  </style>\n",
              "\n",
              "    <script>\n",
              "      const buttonEl =\n",
              "        document.querySelector('#df-fd6dcf5b-a50a-4292-9761-ae822beaa8ba button.colab-df-convert');\n",
              "      buttonEl.style.display =\n",
              "        google.colab.kernel.accessAllowed ? 'block' : 'none';\n",
              "\n",
              "      async function convertToInteractive(key) {\n",
              "        const element = document.querySelector('#df-fd6dcf5b-a50a-4292-9761-ae822beaa8ba');\n",
              "        const dataTable =\n",
              "          await google.colab.kernel.invokeFunction('convertToInteractive',\n",
              "                                                    [key], {});\n",
              "        if (!dataTable) return;\n",
              "\n",
              "        const docLinkHtml = 'Like what you see? Visit the ' +\n",
              "          '<a target=\"_blank\" href=https://colab.research.google.com/notebooks/data_table.ipynb>data table notebook</a>'\n",
              "          + ' to learn more about interactive tables.';\n",
              "        element.innerHTML = '';\n",
              "        dataTable['output_type'] = 'display_data';\n",
              "        await google.colab.output.renderOutput(dataTable, element);\n",
              "        const docLink = document.createElement('div');\n",
              "        docLink.innerHTML = docLinkHtml;\n",
              "        element.appendChild(docLink);\n",
              "      }\n",
              "    </script>\n",
              "  </div>\n",
              "\n",
              "\n",
              "<div id=\"df-0b702910-4e9d-43a9-8357-87d767b3429f\">\n",
              "  <button class=\"colab-df-quickchart\" onclick=\"quickchart('df-0b702910-4e9d-43a9-8357-87d767b3429f')\"\n",
              "            title=\"Suggest charts.\"\n",
              "            style=\"display:none;\">\n",
              "\n",
              "<svg xmlns=\"http://www.w3.org/2000/svg\" height=\"24px\"viewBox=\"0 0 24 24\"\n",
              "     width=\"24px\">\n",
              "    <g>\n",
              "        <path d=\"M19 3H5c-1.1 0-2 .9-2 2v14c0 1.1.9 2 2 2h14c1.1 0 2-.9 2-2V5c0-1.1-.9-2-2-2zM9 17H7v-7h2v7zm4 0h-2V7h2v10zm4 0h-2v-4h2v4z\"/>\n",
              "    </g>\n",
              "</svg>\n",
              "  </button>\n",
              "\n",
              "<style>\n",
              "  .colab-df-quickchart {\n",
              "      --bg-color: #E8F0FE;\n",
              "      --fill-color: #1967D2;\n",
              "      --hover-bg-color: #E2EBFA;\n",
              "      --hover-fill-color: #174EA6;\n",
              "      --disabled-fill-color: #AAA;\n",
              "      --disabled-bg-color: #DDD;\n",
              "  }\n",
              "\n",
              "  [theme=dark] .colab-df-quickchart {\n",
              "      --bg-color: #3B4455;\n",
              "      --fill-color: #D2E3FC;\n",
              "      --hover-bg-color: #434B5C;\n",
              "      --hover-fill-color: #FFFFFF;\n",
              "      --disabled-bg-color: #3B4455;\n",
              "      --disabled-fill-color: #666;\n",
              "  }\n",
              "\n",
              "  .colab-df-quickchart {\n",
              "    background-color: var(--bg-color);\n",
              "    border: none;\n",
              "    border-radius: 50%;\n",
              "    cursor: pointer;\n",
              "    display: none;\n",
              "    fill: var(--fill-color);\n",
              "    height: 32px;\n",
              "    padding: 0;\n",
              "    width: 32px;\n",
              "  }\n",
              "\n",
              "  .colab-df-quickchart:hover {\n",
              "    background-color: var(--hover-bg-color);\n",
              "    box-shadow: 0 1px 2px rgba(60, 64, 67, 0.3), 0 1px 3px 1px rgba(60, 64, 67, 0.15);\n",
              "    fill: var(--button-hover-fill-color);\n",
              "  }\n",
              "\n",
              "  .colab-df-quickchart-complete:disabled,\n",
              "  .colab-df-quickchart-complete:disabled:hover {\n",
              "    background-color: var(--disabled-bg-color);\n",
              "    fill: var(--disabled-fill-color);\n",
              "    box-shadow: none;\n",
              "  }\n",
              "\n",
              "  .colab-df-spinner {\n",
              "    border: 2px solid var(--fill-color);\n",
              "    border-color: transparent;\n",
              "    border-bottom-color: var(--fill-color);\n",
              "    animation:\n",
              "      spin 1s steps(1) infinite;\n",
              "  }\n",
              "\n",
              "  @keyframes spin {\n",
              "    0% {\n",
              "      border-color: transparent;\n",
              "      border-bottom-color: var(--fill-color);\n",
              "      border-left-color: var(--fill-color);\n",
              "    }\n",
              "    20% {\n",
              "      border-color: transparent;\n",
              "      border-left-color: var(--fill-color);\n",
              "      border-top-color: var(--fill-color);\n",
              "    }\n",
              "    30% {\n",
              "      border-color: transparent;\n",
              "      border-left-color: var(--fill-color);\n",
              "      border-top-color: var(--fill-color);\n",
              "      border-right-color: var(--fill-color);\n",
              "    }\n",
              "    40% {\n",
              "      border-color: transparent;\n",
              "      border-right-color: var(--fill-color);\n",
              "      border-top-color: var(--fill-color);\n",
              "    }\n",
              "    60% {\n",
              "      border-color: transparent;\n",
              "      border-right-color: var(--fill-color);\n",
              "    }\n",
              "    80% {\n",
              "      border-color: transparent;\n",
              "      border-right-color: var(--fill-color);\n",
              "      border-bottom-color: var(--fill-color);\n",
              "    }\n",
              "    90% {\n",
              "      border-color: transparent;\n",
              "      border-bottom-color: var(--fill-color);\n",
              "    }\n",
              "  }\n",
              "</style>\n",
              "\n",
              "  <script>\n",
              "    async function quickchart(key) {\n",
              "      const quickchartButtonEl =\n",
              "        document.querySelector('#' + key + ' button');\n",
              "      quickchartButtonEl.disabled = true;  // To prevent multiple clicks.\n",
              "      quickchartButtonEl.classList.add('colab-df-spinner');\n",
              "      try {\n",
              "        const charts = await google.colab.kernel.invokeFunction(\n",
              "            'suggestCharts', [key], {});\n",
              "      } catch (error) {\n",
              "        console.error('Error during call to suggestCharts:', error);\n",
              "      }\n",
              "      quickchartButtonEl.classList.remove('colab-df-spinner');\n",
              "      quickchartButtonEl.classList.add('colab-df-quickchart-complete');\n",
              "    }\n",
              "    (() => {\n",
              "      let quickchartButtonEl =\n",
              "        document.querySelector('#df-0b702910-4e9d-43a9-8357-87d767b3429f button');\n",
              "      quickchartButtonEl.style.display =\n",
              "        google.colab.kernel.accessAllowed ? 'block' : 'none';\n",
              "    })();\n",
              "  </script>\n",
              "</div>\n",
              "    </div>\n",
              "  </div>\n"
            ]
          },
          "metadata": {},
          "execution_count": 4
        }
      ],
      "source": [
        "# Importer le jeu données\n",
        "dataset = pd.read_csv(\"/content/drive/MyDrive/Projet_DataScientest/001_df_processed_nogps.csv\", low_memory=False) #, na_values=[\"-1\"]\n",
        "dataset_reduit,_=train_test_split(dataset,train_size=0.4,random_state=42)\n",
        "dataset_reduit.head()"
      ]
    },
    {
      "cell_type": "code",
      "execution_count": null,
      "metadata": {
        "id": "NOp-hd8DG4RL"
      },
      "outputs": [],
      "source": [
        "dataset_new = dataset_reduit.copy()"
      ]
    },
    {
      "cell_type": "code",
      "execution_count": null,
      "metadata": {
        "id": "uLYhpbBc-MIr"
      },
      "outputs": [],
      "source": [
        "dataset_new['grav'] = dataset_new['grav'].replace({1:\"0\",2:\"3\",3:\"2\",4:\"1\"}).astype(int)\n",
        "dataset_new = dataset_new.sort_values(by='grav')\n",
        "y = dataset_new['grav']\n",
        "y_multiclass = y     # np.array(y).ravel()\n",
        "y_b =y.replace({0:'0',1:'0',2:'1',3:'1'}).astype(int)\n",
        "y_binary = y_b #np.array(y_b).ravel()\n",
        "#target=target.apply(lambda x: 1 if (x==2 or x==3) else 0)\n",
        "drop_var = ['grav','num_veh','date','Num_Acc', \"age\", \"lum\", \"agg\"]\n",
        "X = dataset_new.drop(drop_var, axis=1)"
      ]
    },
    {
      "cell_type": "code",
      "execution_count": null,
      "metadata": {
        "colab": {
          "base_uri": "https://localhost:8080/"
        },
        "id": "NqrUv8dptq_v",
        "outputId": "a2a45bd8-5840-441a-b7aa-c719d960769a"
      },
      "outputs": [
        {
          "data": {
            "text/plain": [
              "(1003864, 93)"
            ]
          },
          "execution_count": 6,
          "metadata": {},
          "output_type": "execute_result"
        }
      ],
      "source": [
        "dataset_new.shape"
      ]
    },
    {
      "cell_type": "markdown",
      "metadata": {
        "id": "odbpVdnjI0u-"
      },
      "source": [
        "Sampling Adequacy - Kaiser-Meyer-Olkin (KMO) **test**"
      ]
    },
    {
      "cell_type": "code",
      "execution_count": null,
      "metadata": {
        "colab": {
          "base_uri": "https://localhost:8080/"
        },
        "id": "WzaVVN15IxYS",
        "outputId": "00280de4-3785-4c93-ef4b-643e96305ddd"
      },
      "outputs": [
        {
          "output_type": "stream",
          "name": "stderr",
          "text": [
            "/usr/local/lib/python3.10/dist-packages/factor_analyzer/utils.py:244: UserWarning: The inverse of the variance-covariance matrix was calculated using the Moore-Penrose generalized matrix inversion, due to its determinant being at or very close to zero.\n",
            "  warnings.warn(\n"
          ]
        },
        {
          "output_type": "stream",
          "name": "stdout",
          "text": [
            "Overall KMO = 0.392\n",
            "KMO per feature:\n",
            "[0.953 0.939 0.806 0.568 0.076 0.063 0.065 0.242 0.484 0.5   0.397 0.879\n",
            " 0.582 0.581 0.332 0.215 0.332 0.333 0.569 0.536 0.599 0.428 0.179 0.05\n",
            " 0.107 0.142 0.121 0.569 0.434 0.709 0.456 0.533 0.709 0.799 0.205 0.198\n",
            " 0.075 0.064 0.159 0.153 0.185 0.563 0.589 0.41  0.351 0.296 0.437 0.84\n",
            " 0.556 0.701 0.632 0.447 0.506 0.743 0.689 0.464 0.126 0.08  0.415 0.205\n",
            " 0.187 0.112 0.137 0.131 0.408 0.544 0.573 0.279 0.396 0.342 0.363 0.391\n",
            " 0.635 0.409 0.331 0.345 0.079 0.595 0.601 0.451 0.636 0.649 0.373 0.37\n",
            " 0.615 0.791]\n"
          ]
        }
      ],
      "source": [
        "#Sampling Adequacy - Kaiser-Meyer-Olkin (KMO) test\n",
        "\n",
        "#Le test KMO mesure l’adéquation des données à l’analyse factorielle.\n",
        "#Il détermine l'adéquation pour chaque variable observée et pour le modèle complet.\n",
        "#KMO estime la proportion de variance entre toutes les variables observées. Une proportion plus faible convient mieux à l’analyse factorielle.\n",
        "#Les valeurs de KMO varient entre 0 et 1. Une valeur de KMO inférieure à 0,6 est considérée comme insuffisante.\n",
        "\n",
        "kmo_all, kmo_model = calculate_kmo(X)\n",
        "\n",
        "print(\"Overall KMO = {:.3f}\".format(kmo_model))\n",
        "print(\"KMO per feature:\\n{}\".format(kmo_all.round(3)))"
      ]
    },
    {
      "cell_type": "code",
      "execution_count": null,
      "metadata": {
        "colab": {
          "base_uri": "https://localhost:8080/"
        },
        "id": "FdSOMmvGMeyo",
        "outputId": "56e6e586-109c-456b-e7cb-33e6b8ac1f01"
      },
      "outputs": [
        {
          "data": {
            "text/plain": [
              "(2509660, 86)"
            ]
          },
          "execution_count": 8,
          "metadata": {},
          "output_type": "execute_result"
        }
      ],
      "source": [
        "X.shape"
      ]
    },
    {
      "cell_type": "code",
      "execution_count": null,
      "metadata": {
        "colab": {
          "base_uri": "https://localhost:8080/"
        },
        "id": "1aN-zVO3L9sq",
        "outputId": "67984cdd-b81f-4c5c-d80b-805341450e41"
      },
      "outputs": [
        {
          "output_type": "execute_result",
          "data": {
            "text/plain": [
              "['Casque',\n",
              " 'Ceinture',\n",
              " 'Dispositif_Enfant',\n",
              " 'Equipement_Réfléchissant',\n",
              " 'catu_Pieton',\n",
              " 'sexe_Feminin',\n",
              " 'sexe_Masculin',\n",
              " 'trajet_Utilisation_Professionnelle',\n",
              " 'locp_Chausse_Hors_Passage_Pieton',\n",
              " 'locp_Sur_Passage_Pieton',\n",
              " 'actp_Traversant',\n",
              " 'etatp_Seul',\n",
              " 'senc_Repere_Decroissant',\n",
              " 'prof_Pente',\n",
              " 'plan_Courbe',\n",
              " 'situ_Chausse',\n",
              " 'situ_Trottoir/Bord_de_route',\n",
              " 'infra_Autre',\n",
              " 'infra_Carrefour',\n",
              " 'vosp_Cycl/Reserv',\n",
              " 'col_2_Vehicules',\n",
              " 'obs_Fixe',\n",
              " 'obs_Piéton',\n",
              " 'obs_Vehicule',\n",
              " 'int_TouY',\n",
              " 'int_X',\n",
              " 'region_Auvergne-Rhône-Alpes',\n",
              " 'region_Grand Est',\n",
              " 'region_Hauts-de-France',\n",
              " 'region_Nouvelle-Aquitaine',\n",
              " 'region_Occitanie',\n",
              " \"region_Provence-Alpes-Côte d'Azur\",\n",
              " 'region_Île-de-France']"
            ]
          },
          "metadata": {},
          "execution_count": 8
        }
      ],
      "source": [
        "#chi_square_value, p_value = calculate_bartlett_sphericity(X)\n",
        "#chi_square_value, p_value\n",
        "# Variables considered adequate by the KMO test\n",
        "kmo_passed = list(X.columns[kmo_all >= 0.5])\n",
        "kmo_passed"
      ]
    },
    {
      "cell_type": "code",
      "execution_count": null,
      "metadata": {
        "colab": {
          "base_uri": "https://localhost:8080/"
        },
        "id": "Vg6LucrxMNLM",
        "outputId": "0ad0e090-36fe-45c4-c61f-eab4cae9c955"
      },
      "outputs": [
        {
          "output_type": "execute_result",
          "data": {
            "text/plain": [
              "['place_Arriere_Droit',\n",
              " 'place_Arriere_Gauche',\n",
              " 'place_Autre',\n",
              " 'place_Avant_Droit',\n",
              " 'place_Avant_Gauche',\n",
              " 'catu_Conducteur',\n",
              " 'catu_Passager',\n",
              " 'trajet_Achats',\n",
              " 'trajet_Autre',\n",
              " 'trajet_Domicile_Travail',\n",
              " 'trajet_Loisirs',\n",
              " 'locp_Trottoir/Bord_de_route',\n",
              " 'actp_Autre',\n",
              " 'actp_Avec_Animal',\n",
              " 'actp_Deplacement_sens_inv_vehicule',\n",
              " 'actp_Deplacement_sens_vehicule',\n",
              " 'actp_Jouant_Courant',\n",
              " 'etatp_Groupe',\n",
              " 'senc_Repere_Croissant',\n",
              " 'manv_Arret/se_gare',\n",
              " 'manv_Aucune_Manoeuvre',\n",
              " 'manv_Autre',\n",
              " 'manv_Contresens',\n",
              " 'manv_Depasse',\n",
              " 'manv_Deport',\n",
              " 'manv_Tourne',\n",
              " 'circ_Bidirectionnelle',\n",
              " 'circ_Chausse_Separee',\n",
              " 'circ_Sens_Unique',\n",
              " 'surf_Glissant',\n",
              " 'col_3_Vehicules',\n",
              " 'catv_2_roues',\n",
              " 'catv_Lourd',\n",
              " 'catv_Utilitaire',\n",
              " 'catv_Voiture',\n",
              " 'choc_Arriere',\n",
              " 'choc_Avant',\n",
              " 'choc_Droit',\n",
              " 'choc_Gauche',\n",
              " 'choc_Tonneaux',\n",
              " 'int_Autre',\n",
              " 'atm_Eleve',\n",
              " 'atm_Faible',\n",
              " 'catr_Departementale',\n",
              " 'catr_Nationnale/Autoroute',\n",
              " 'catr_Voix_Communale',\n",
              " 'region_Bourgogne-Franche-Comté',\n",
              " 'region_Bretagne',\n",
              " 'region_Centre-Val de Loire',\n",
              " 'region_Corse',\n",
              " 'region_Normandie',\n",
              " 'region_Outre-Mer',\n",
              " 'region_Pays de la Loire']"
            ]
          },
          "metadata": {},
          "execution_count": 9
        }
      ],
      "source": [
        "# Variables considered inadequate by the KMO test\n",
        "kmo_failed = list(X.columns[kmo_all < 0.5])\n",
        "kmo_failed"
      ]
    },
    {
      "cell_type": "code",
      "execution_count": null,
      "metadata": {
        "colab": {
          "base_uri": "https://localhost:8080/"
        },
        "id": "3KkCInjfMV3j",
        "outputId": "c76bef32-35a1-46ef-b0ad-5ee7c6c2e2c1"
      },
      "outputs": [
        {
          "output_type": "stream",
          "name": "stdout",
          "text": [
            "33\n",
            "53\n"
          ]
        }
      ],
      "source": [
        "print(len(kmo_passed))\n",
        "print(len(kmo_failed))\n"
      ]
    },
    {
      "cell_type": "code",
      "execution_count": null,
      "metadata": {
        "colab": {
          "base_uri": "https://localhost:8080/"
        },
        "id": "XOmSDqyAM6U4",
        "outputId": "0e505b31-5c11-49aa-b8af-c8dd8a547379"
      },
      "outputs": [
        {
          "output_type": "stream",
          "name": "stderr",
          "text": [
            "/usr/local/lib/python3.10/dist-packages/factor_analyzer/utils.py:244: UserWarning: The inverse of the variance-covariance matrix was calculated using the Moore-Penrose generalized matrix inversion, due to its determinant being at or very close to zero.\n",
            "  warnings.warn(\n"
          ]
        },
        {
          "output_type": "stream",
          "name": "stdout",
          "text": [
            "Overall KMO = 0.626\n",
            "KMO per feature:\n",
            "[0.509 0.609 0.222 0.395 0.832 0.527 0.526 0.85  0.573 0.621 0.84  0.927\n",
            " 0.588 0.622 0.711 0.581 0.592 0.621 0.58  0.562 0.869 0.518 0.766 0.678\n",
            " 0.483 0.563 0.148 0.136 0.14  0.147 0.148 0.147 0.253]\n"
          ]
        }
      ],
      "source": [
        "# Preuve pour confirmer que les variables choisis sont adequate pour l'analyse factorielle\n",
        "kmo_passed = list(X.columns[kmo_all >= 0.5])\n",
        "X_kmo = X[kmo_passed]\n",
        "\n",
        "kmo_all, kmo_model = calculate_kmo(X_kmo)\n",
        "\n",
        "print(\"Overall KMO = {:.3f}\".format(kmo_model))\n",
        "print(\"KMO per feature:\\n{}\".format(kmo_all.round(3)))"
      ]
    },
    {
      "cell_type": "code",
      "execution_count": null,
      "metadata": {
        "id": "KDM7MVtQNZH5"
      },
      "outputs": [],
      "source": [
        "#Copier les variable choisit\n",
        "X = X_kmo.copy()"
      ]
    },
    {
      "cell_type": "code",
      "execution_count": null,
      "metadata": {
        "id": "vUQ_DYjSNlmE"
      },
      "outputs": [],
      "source": [
        "#Fonction pour entrainer le model\n",
        "def train_factor_model(dataset, number_of_factors, rotation=\"varimax\"):\n",
        "  factor_model = FactorAnalyzer(n_factors=number_of_factors, rotation=rotation)\n",
        "  factor_model.fit(dataset)\n",
        "\n",
        "  return factor_model"
      ]
    },
    {
      "cell_type": "code",
      "execution_count": null,
      "metadata": {
        "id": "OmTvaTNTNtHQ"
      },
      "outputs": [],
      "source": [
        "# Fonction pour representer les facteurs\n",
        "def scree_plot(eigenvalues, n_columns):\n",
        "  plt.style.use(\"fivethirtyeight\")\n",
        "  # Create scree plot using matplotlib\n",
        "  fig, ax = plt.subplots(figsize=(10, 6))\n",
        "\n",
        "  ax.scatter(range(1, n_columns + 1), eigenvalues, s=50)\n",
        "  ax.plot(range(1, n_columns + 1), eigenvalues)\n",
        "\n",
        "  ax.set_title('Scree Plot')\n",
        "  ax.set_xlabel('# Factors')\n",
        "  ax.set_ylabel('Eigenvalues')\n",
        "\n",
        "  ax.grid(False)\n",
        "\n",
        "  ax.axhline(y=1, linestyle=\"--\", color=\"grey\", linewidth=1)\n",
        "  # plt.savefig(\"scree_plot.png\", transparent=True, dpi=600)\n",
        "  plt.show()"
      ]
    },
    {
      "cell_type": "code",
      "execution_count": null,
      "metadata": {
        "id": "0dSWOwsON9bc"
      },
      "outputs": [],
      "source": [
        "def loadings_plot(loadings, variables):\n",
        "  # Create loadings plot using matplotlib\n",
        "  fig, ax = plt.subplots(figsize=(15, 5))\n",
        "\n",
        "  image = ax.matshow(loadings, cmap=\"hot\")\n",
        "\n",
        "  n_factors = loadings.shape[1]\n",
        "  factors = [\"Factor{}\".format(index) for index in range(n_factors)]\n",
        "\n",
        "  ax.set_yticklabels([\"\"] + variables, fontsize=10)\n",
        "  ax.set_xticklabels([\"\"] + factors, rotation=\"vertical\", fontsize=10)\n",
        "\n",
        "  ax.xaxis.set_major_locator(ticker.MultipleLocator(1))\n",
        "  ax.yaxis.set_major_locator(ticker.MultipleLocator(1))\n",
        "  ax.grid(False)\n",
        "\n",
        "  plt.colorbar(image)\n",
        "  plt.tight_layout()\n",
        "  plt.show()"
      ]
    },
    {
      "cell_type": "code",
      "execution_count": null,
      "metadata": {
        "id": "O0mUNEHiOCet"
      },
      "outputs": [],
      "source": [
        "factor_model = train_factor_model(X, len(X.columns), rotation=\"oblimin\") # nb_factor=33"
      ]
    },
    {
      "cell_type": "code",
      "execution_count": null,
      "metadata": {
        "id": "I2n_2rUgOH2U"
      },
      "outputs": [],
      "source": [
        "# Choosing the Number of Factors\n",
        "eigenvalues, common_factor_eigenvalues = factor_model.get_eigenvalues()"
      ]
    },
    {
      "cell_type": "code",
      "execution_count": null,
      "metadata": {
        "colab": {
          "base_uri": "https://localhost:8080/"
        },
        "id": "SYaRkHtVOLxs",
        "outputId": "9e27b176-dd54-453f-fd3d-93f7b169af5a"
      },
      "outputs": [
        {
          "data": {
            "text/plain": [
              "array([4.53299416e+00, 2.53683946e+00, 2.15124005e+00, 1.47049267e+00,\n",
              "       1.38784665e+00, 1.28792044e+00, 1.20014957e+00, 1.15441390e+00,\n",
              "       1.10523438e+00, 1.09870074e+00, 1.08517295e+00, 1.07986540e+00,\n",
              "       1.06110005e+00, 1.04155726e+00, 1.02704047e+00, 1.00512603e+00,\n",
              "       9.99076206e-01, 9.74882989e-01, 9.43220124e-01, 9.10848239e-01,\n",
              "       8.69505606e-01, 7.86111393e-01, 7.23865738e-01, 6.47754197e-01,\n",
              "       4.43338859e-01, 3.22805307e-01, 2.70432509e-01, 2.56240096e-01,\n",
              "       2.08215787e-01, 1.85306325e-01, 1.32657697e-01, 9.73507064e-02,\n",
              "       2.69403128e-03])"
            ]
          },
          "execution_count": 17,
          "metadata": {},
          "output_type": "execute_result"
        }
      ],
      "source": [
        "eigenvalues"
      ]
    },
    {
      "cell_type": "code",
      "execution_count": null,
      "metadata": {
        "colab": {
          "base_uri": "https://localhost:8080/",
          "height": 605
        },
        "id": "IfW4lA_FOPlE",
        "outputId": "b695be75-00d0-4fcd-f4f0-59198bebd6c7"
      },
      "outputs": [
        {
          "data": {
            "image/png": "[encoded data removed]",
            "text/plain": [
              "<Figure size 1000x600 with 1 Axes>"
            ]
          },
          "metadata": {},
          "output_type": "display_data"
        }
      ],
      "source": [
        "# Seuil 1\n",
        "n_columns = len(X.columns)\n",
        "scree_plot(eigenvalues, n_columns=n_columns)"
      ]
    },
    {
      "cell_type": "code",
      "execution_count": null,
      "metadata": {
        "id": "PtuRIrjDIx27"
      },
      "outputs": [],
      "source": [
        "number_of_factors = sum(eigenvalues > 1)\n",
        "factor_model = train_factor_model(X, number_of_factors, rotation=\"promax\") # nmber_of_factors=16"
      ]
    },
    {
      "cell_type": "code",
      "execution_count": null,
      "metadata": {
        "colab": {
          "base_uri": "https://localhost:8080/",
          "height": 564
        },
        "id": "3udX7QSEOhVP",
        "outputId": "136828f4-f3ca-4cdd-8d57-b084f3e30846"
      },
      "outputs": [
        {
          "name": "stderr",
          "output_type": "stream",
          "text": [
            "<ipython-input-17-8b1479f7c88e>:10: UserWarning: FixedFormatter should only be used together with FixedLocator\n",
            "  ax.set_yticklabels([\"\"] + variables, fontsize=10)\n",
            "<ipython-input-17-8b1479f7c88e>:11: UserWarning: FixedFormatter should only be used together with FixedLocator\n",
            "  ax.set_xticklabels([\"\"] + factors, rotation=\"vertical\", fontsize=10)\n"
          ]
        },
        {
          "data": {
            "image/png": "[encoded data removed]",
            "text/plain": [
              "<Figure size 1500x500 with 2 Axes>"
            ]
          },
          "metadata": {},
          "output_type": "display_data"
        }
      ],
      "source": [
        "loadings = factor_model.loadings_\n",
        "loadings_abs = np.abs(loadings)\n",
        "\n",
        "columns = X.columns.tolist()\n",
        "loadings_plot(loadings_abs, columns)"
      ]
    },
    {
      "cell_type": "code",
      "execution_count": null,
      "metadata": {
        "colab": {
          "base_uri": "https://localhost:8080/"
        },
        "id": "Ob6_vprxQYIn",
        "outputId": "1eeda70e-de24-42f3-d3ae-81f5dfdb616d"
      },
      "outputs": [
        {
          "name": "stdout",
          "output_type": "stream",
          "text": [
            "                                          0         1         2         3   \\\n",
            "Casque                             -0.144712  0.150195  0.016241 -0.027113   \n",
            "Ceinture                           -0.244313 -0.134011  0.098311  0.001743   \n",
            "Dispositif_Enfant                  -0.012038 -0.030299  0.008902 -0.003474   \n",
            "Equipement_Réfléchissant            0.000613  0.004985  0.012427 -0.000656   \n",
            "catu_Pieton                         0.916922  0.009455 -0.024591  0.004296   \n",
            "sexe_Feminin                       -0.058191 -1.091987  0.026886 -0.004480   \n",
            "sexe_Masculin                       0.059944  1.092760 -0.026191  0.004195   \n",
            "trajet_Utilisation_Professionnelle -0.060252  0.120885  0.006151 -0.017058   \n",
            "locp_Chausse_Hors_Passage_Pieton    0.546765  0.016129 -0.008290 -0.031379   \n",
            "locp_Sur_Passage_Pieton             0.776756  0.027235  0.030822 -0.035752   \n",
            "actp_Traversant                     0.917245  0.017913  0.023599 -0.039058   \n",
            "etatp_Seul                          0.848188  0.021167  0.006202 -0.006151   \n",
            "senc_Repere_Decroissant             0.010154  0.000039  0.036472  0.058764   \n",
            "prof_Pente                         -0.001683  0.007858  0.013556  0.007746   \n",
            "plan_Courbe                        -0.001578  0.026245  0.002562  0.072214   \n",
            "situ_Chausse                        0.037929  0.000732  0.117302 -0.816838   \n",
            "situ_Trottoir/Bord_de_route        -0.029815 -0.009855 -0.077390  1.043393   \n",
            "infra_Autre                        -0.001342 -0.010846 -0.036231 -0.011636   \n",
            "infra_Carrefour                     0.000412  0.014534  0.035441 -0.005024   \n",
            "vosp_Cycl/Reserv                    0.002541 -0.001296  0.004461  0.074729   \n",
            "col_2_Vehicules                    -0.041789  0.010481  0.627966 -0.070829   \n",
            "obs_Fixe                           -0.045195  0.123692 -0.669310  0.108880   \n",
            "obs_Piéton                          0.165039 -0.088536 -0.490047 -0.012663   \n",
            "obs_Vehicule                       -0.008900 -0.029378  0.928240 -0.035211   \n",
            "int_TouY                           -0.002313 -0.019656  0.057282 -0.060292   \n",
            "int_X                               0.025356  0.002209  0.068902 -0.000715   \n",
            "region_Auvergne-Rhône-Alpes        -0.009183  0.036336 -0.030660 -0.121219   \n",
            "region_Grand Est                    0.004963  0.002526 -0.043655 -0.009981   \n",
            "region_Hauts-de-France              0.023390  0.026686  0.143227  0.134858   \n",
            "region_Nouvelle-Aquitaine          -0.011151  0.033570 -0.007706 -0.064902   \n",
            "region_Occitanie                   -0.003139  0.042016  0.068890  0.077146   \n",
            "region_Provence-Alpes-Côte d'Azur  -0.033680 -0.009124  0.026370  0.003972   \n",
            "region_Île-de-France                0.032958 -0.149424 -0.145759 -0.037795   \n",
            "\n",
            "                                          4         5         6         7   \\\n",
            "Casque                             -0.001565 -0.660408 -0.023304  0.015746   \n",
            "Ceinture                            0.029272  0.988182  0.015203 -0.038698   \n",
            "Dispositif_Enfant                  -0.002252 -0.054409  0.002971 -0.008300   \n",
            "Equipement_Réfléchissant           -0.002339 -0.004071 -0.001518 -0.001393   \n",
            "catu_Pieton                         0.010326  0.004419 -0.004149 -0.008649   \n",
            "sexe_Feminin                       -0.018676  0.151367 -0.021049 -0.004421   \n",
            "sexe_Masculin                       0.019234 -0.149175  0.021572  0.003831   \n",
            "trajet_Utilisation_Professionnelle -0.004796  0.069169 -0.003878 -0.017409   \n",
            "locp_Chausse_Hors_Passage_Pieton   -0.000214  0.043404  0.001381 -0.003791   \n",
            "locp_Sur_Passage_Pieton             0.012959 -0.010852 -0.004706 -0.012741   \n",
            "actp_Traversant                     0.011399  0.023251 -0.001903 -0.007679   \n",
            "etatp_Seul                          0.007034  0.019767 -0.003269 -0.010671   \n",
            "senc_Repere_Decroissant            -0.030630  0.019383  0.005086  0.003380   \n",
            "prof_Pente                         -0.001343 -0.017787 -0.007857  0.013878   \n",
            "plan_Courbe                         0.024884 -0.049256  0.024570 -0.053616   \n",
            "situ_Chausse                       -0.075848 -0.014334  0.034246 -0.005544   \n",
            "situ_Trottoir/Bord_de_route         0.103156  0.025950 -0.036078 -0.004541   \n",
            "infra_Autre                        -0.003469  0.010462  0.003150 -0.000356   \n",
            "infra_Carrefour                    -0.037754  0.022412 -0.004154  0.002810   \n",
            "vosp_Cycl/Reserv                   -0.010100 -0.037770  0.013041 -0.006094   \n",
            "col_2_Vehicules                     0.031219 -0.012161 -0.002794  0.014934   \n",
            "obs_Fixe                           -0.033855  0.041114  0.002311 -0.012550   \n",
            "obs_Piéton                         -0.055367 -0.034422 -0.004195 -0.010419   \n",
            "obs_Vehicule                        0.075505  0.033171 -0.000896  0.003011   \n",
            "int_TouY                           -0.001247 -0.024057 -0.015069 -0.033060   \n",
            "int_X                              -0.028879  0.016403 -0.011342 -0.015988   \n",
            "region_Auvergne-Rhône-Alpes        -0.087043  0.042835 -0.143454 -0.108446   \n",
            "region_Grand Est                   -0.123689  0.081854 -0.108856 -0.088798   \n",
            "region_Hauts-de-France              1.295885  0.035137 -0.107095 -0.126877   \n",
            "region_Nouvelle-Aquitaine          -0.127092  0.031739  1.162845 -0.119711   \n",
            "region_Occitanie                   -0.169631  0.007091 -0.090174 -0.112687   \n",
            "region_Provence-Alpes-Côte d'Azur  -0.150751 -0.021665 -0.120218  1.147235   \n",
            "region_Île-de-France               -0.148199 -0.128167 -0.195929 -0.188218   \n",
            "\n",
            "                                          8         9         10        11  \\\n",
            "Casque                             -0.039173  0.045593  0.028845  0.022958   \n",
            "Ceinture                            0.041722 -0.089428 -0.048539 -0.015920   \n",
            "Dispositif_Enfant                   0.003450 -0.017653 -0.001469 -0.005451   \n",
            "Equipement_Réfléchissant            0.005697  0.000506  0.011421 -0.003849   \n",
            "catu_Pieton                         0.001011  0.045672  0.001103 -0.006444   \n",
            "sexe_Feminin                       -0.004434  0.116666  0.103748  0.010435   \n",
            "sexe_Masculin                       0.004837 -0.118333 -0.104758 -0.010603   \n",
            "trajet_Utilisation_Professionnelle -0.003714  0.038452  0.044795 -0.000207   \n",
            "locp_Chausse_Hors_Passage_Pieton   -0.015340 -0.012286  0.032513 -0.007121   \n",
            "locp_Sur_Passage_Pieton             0.017957  0.006090 -0.015907  0.014116   \n",
            "actp_Traversant                     0.001487 -0.003627  0.009570  0.005773   \n",
            "etatp_Seul                         -0.001223  0.011251  0.005074 -0.001490   \n",
            "senc_Repere_Decroissant            -0.011265 -0.010858  0.018072  0.008949   \n",
            "prof_Pente                          0.007449  0.025194  0.017529  0.002416   \n",
            "plan_Courbe                         0.020883  0.061701 -0.005805 -0.022167   \n",
            "situ_Chausse                       -0.004123  0.057775  0.105927  0.014198   \n",
            "situ_Trottoir/Bord_de_route        -0.004423 -0.038687 -0.134736 -0.053868   \n",
            "infra_Autre                        -0.002759 -0.005607  0.052094 -0.018188   \n",
            "infra_Carrefour                     0.012684 -0.018911  0.045872  0.043137   \n",
            "vosp_Cycl/Reserv                    0.013236  0.046782  0.050030  0.008738   \n",
            "col_2_Vehicules                    -0.004426  0.003767 -0.026719  0.049961   \n",
            "obs_Fixe                            0.021155 -0.837519  0.128887  0.030102   \n",
            "obs_Piéton                          0.009819  0.659647 -0.003846 -0.018470   \n",
            "obs_Vehicule                       -0.022726  0.177754 -0.101181 -0.002048   \n",
            "int_TouY                            0.027812 -0.044463  0.114283  1.012283   \n",
            "int_X                              -0.001114 -0.033046  0.140513 -0.167967   \n",
            "region_Auvergne-Rhône-Alpes        -0.099822 -0.023763  0.090213 -0.012728   \n",
            "region_Grand Est                    1.088571 -0.016336  0.118949  0.027072   \n",
            "region_Hauts-de-France             -0.101336  0.000626  0.344648  0.001366   \n",
            "region_Nouvelle-Aquitaine          -0.103417 -0.003326  0.176748 -0.012865   \n",
            "region_Occitanie                   -0.059850  0.043624 -0.700747 -0.030644   \n",
            "region_Provence-Alpes-Côte d'Azur  -0.084853  0.007162  0.239206 -0.029209   \n",
            "region_Île-de-France               -0.189404 -0.038056  0.565855  0.076515   \n",
            "\n",
            "                                          12        13        14        15  \n",
            "Casque                              0.045571 -0.032460  0.037016 -0.025922  \n",
            "Ceinture                           -0.054087 -0.002935 -0.023906  0.036630  \n",
            "Dispositif_Enfant                  -0.007847  0.001141  0.005031 -0.000997  \n",
            "Equipement_Réfléchissant            0.003757  0.002857 -0.002703 -0.018587  \n",
            "catu_Pieton                         0.004469  0.086721 -0.001664  0.001296  \n",
            "sexe_Feminin                        0.041559 -0.001781 -0.036901 -0.021265  \n",
            "sexe_Masculin                      -0.041297  0.001882  0.036943  0.021645  \n",
            "trajet_Utilisation_Professionnelle  0.003370 -0.002078 -0.010791  0.011714  \n",
            "locp_Chausse_Hors_Passage_Pieton   -0.010692  0.673645  0.024608  0.017144  \n",
            "locp_Sur_Passage_Pieton             0.014515 -0.677208 -0.034328  0.006544  \n",
            "actp_Traversant                     0.004424 -0.046336 -0.011842  0.019254  \n",
            "etatp_Seul                          0.003475  0.098198 -0.003065  0.015199  \n",
            "senc_Repere_Decroissant            -0.014577 -0.003155  0.017703 -0.024475  \n",
            "prof_Pente                         -0.024634  0.009599  0.330594  0.017487  \n",
            "plan_Courbe                         0.026798  0.008041  0.801676  0.107896  \n",
            "situ_Chausse                       -0.095224  0.005565 -0.025568 -0.023733  \n",
            "situ_Trottoir/Bord_de_route         0.126746  0.001632  0.058644  0.003385  \n",
            "infra_Autre                        -0.018641 -0.019116  0.047682 -0.118517  \n",
            "infra_Carrefour                     0.003221  0.001347  0.110987  0.428864  \n",
            "vosp_Cycl/Reserv                   -0.050595  0.000744 -0.053902  0.030610  \n",
            "col_2_Vehicules                     0.006071 -0.001670  0.016612  0.199673  \n",
            "obs_Fixe                           -0.030138  0.016138 -0.080234  0.065645  \n",
            "obs_Piéton                          0.015857  0.008678  0.110032 -0.039764  \n",
            "obs_Vehicule                        0.018393 -0.010669  0.002966  0.021173  \n",
            "int_TouY                            0.027533 -0.013701 -0.029981 -0.011846  \n",
            "int_X                               0.005109 -0.026663 -0.040697  0.518134  \n",
            "region_Auvergne-Rhône-Alpes        -0.807691  0.008874  0.016749 -0.029791  \n",
            "region_Grand Est                    0.173974 -0.021469  0.046260  0.019984  \n",
            "region_Hauts-de-France              0.123219 -0.005401  0.028843 -0.111923  \n",
            "region_Nouvelle-Aquitaine           0.241426  0.003302  0.005227 -0.029230  \n",
            "region_Occitanie                    0.101309 -0.008105 -0.020017 -0.046338  \n",
            "region_Provence-Alpes-Côte d'Azur   0.183959  0.002796 -0.027614 -0.003938  \n",
            "region_Île-de-France                0.367353  0.012869 -0.037291  0.134589  \n"
          ]
        }
      ],
      "source": [
        "# region_Grand Est (facteur 8), region_Hauts-de-France (facteur 4), region_Nouvelle-Aquitaine (facteur 6) ces variable ont une « saturation » (factor loading) superieur a 1\n",
        "#passed = list(X[loadings>1])\n",
        "#saturation = X[passed]\n",
        "print(pd.DataFrame(loadings, index=X.columns))"
      ]
    },
    {
      "cell_type": "code",
      "execution_count": null,
      "metadata": {
        "id": "tw4HKGDHOwn0"
      },
      "outputs": [],
      "source": [
        "#regrouper les facteurs\n",
        "n_factors = loadings.shape[1]\n",
        "factors_list = [\"Factor{}\".format(index) for index in range(n_factors)]\n",
        "factors = {}.fromkeys(factors_list, None)\n",
        "for key in factors:\n",
        "  factors[key] = []\n",
        "\n",
        "argsmax = loadings_abs.argmax(axis=1)\n",
        "for argmax, column in zip(argsmax, columns):\n",
        "  factors[factors_list[argmax]].append(column)"
      ]
    },
    {
      "cell_type": "code",
      "execution_count": null,
      "metadata": {
        "colab": {
          "base_uri": "https://localhost:8080/"
        },
        "id": "7jU9IGLNO01N",
        "outputId": "4e9ec147-12c7-44b1-ba3a-4e9daa107fbc"
      },
      "outputs": [
        {
          "data": {
            "text/plain": [
              "{'Factor0': ['catu_Pieton',\n",
              "  'locp_Sur_Passage_Pieton',\n",
              "  'actp_Traversant',\n",
              "  'etatp_Seul'],\n",
              " 'Factor1': ['sexe_Feminin',\n",
              "  'sexe_Masculin',\n",
              "  'trajet_Utilisation_Professionnelle'],\n",
              " 'Factor2': ['col_2_Vehicules', 'obs_Vehicule'],\n",
              " 'Factor3': ['senc_Repere_Decroissant',\n",
              "  'situ_Chausse',\n",
              "  'situ_Trottoir/Bord_de_route',\n",
              "  'vosp_Cycl/Reserv'],\n",
              " 'Factor4': ['region_Hauts-de-France'],\n",
              " 'Factor5': ['Casque', 'Ceinture', 'Dispositif_Enfant'],\n",
              " 'Factor6': ['region_Nouvelle-Aquitaine'],\n",
              " 'Factor7': [\"region_Provence-Alpes-Côte d'Azur\"],\n",
              " 'Factor8': ['region_Grand Est'],\n",
              " 'Factor9': ['obs_Fixe', 'obs_Piéton'],\n",
              " 'Factor10': ['region_Occitanie', 'region_Île-de-France'],\n",
              " 'Factor11': ['int_TouY'],\n",
              " 'Factor12': ['region_Auvergne-Rhône-Alpes'],\n",
              " 'Factor13': ['locp_Chausse_Hors_Passage_Pieton'],\n",
              " 'Factor14': ['prof_Pente', 'plan_Courbe'],\n",
              " 'Factor15': ['Equipement_Réfléchissant',\n",
              "  'infra_Autre',\n",
              "  'infra_Carrefour',\n",
              "  'int_X']}"
            ]
          },
          "execution_count": 24,
          "metadata": {},
          "output_type": "execute_result"
        }
      ],
      "source": [
        "factors"
      ]
    },
    {
      "cell_type": "code",
      "execution_count": null,
      "metadata": {
        "id": "_06qR53uP4H-"
      },
      "outputs": [],
      "source": [
        "X_latent = factor_model.transform(X)\n",
        "#y_multiclass = np.array(y).ravel()"
      ]
    },
    {
      "cell_type": "code",
      "execution_count": null,
      "metadata": {
        "id": "5WHPrVNT28R1"
      },
      "outputs": [],
      "source": [
        "seed=42\n",
        "scaler = StandardScaler()\n",
        "X_scaled = scaler.fit_transform(X_latent)\n",
        "\n",
        "X_train, X_test, y_train, y_test = train_test_split(X_scaled, y_multiclass,\n",
        "                                                      test_size=0.2,\n",
        "                                                      random_state=seed,\n",
        "                                                      stratify=y)"
      ]
    },
    {
      "cell_type": "code",
      "execution_count": null,
      "metadata": {
        "colab": {
          "base_uri": "https://localhost:8080/",
          "height": 118
        },
        "id": "1HkNESx14Rq1",
        "outputId": "ac39b5e5-4141-431d-9df5-cc0983a81270"
      },
      "outputs": [
        {
          "data": {
            "text/html": [
              "<style>#sk-container-id-1 {color: black;background-color: white;}#sk-container-id-1 pre{padding: 0;}#sk-container-id-1 div.sk-toggleable {background-color: white;}#sk-container-id-1 label.sk-toggleable__label {cursor: pointer;display: block;width: 100%;margin-bottom: 0;padding: 0.3em;box-sizing: border-box;text-align: center;}#sk-container-id-1 label.sk-toggleable__label-arrow:before {content: \"▸\";float: left;margin-right: 0.25em;color: #696969;}#sk-container-id-1 label.sk-toggleable__label-arrow:hover:before {color: black;}#sk-container-id-1 div.sk-estimator:hover label.sk-toggleable__label-arrow:before {color: black;}#sk-container-id-1 div.sk-toggleable__content {max-height: 0;max-width: 0;overflow: hidden;text-align: left;background-color: #f0f8ff;}#sk-container-id-1 div.sk-toggleable__content pre {margin: 0.2em;color: black;border-radius: 0.25em;background-color: #f0f8ff;}#sk-container-id-1 input.sk-toggleable__control:checked~div.sk-toggleable__content {max-height: 200px;max-width: 100%;overflow: auto;}#sk-container-id-1 input.sk-toggleable__control:checked~label.sk-toggleable__label-arrow:before {content: \"▾\";}#sk-container-id-1 div.sk-estimator input.sk-toggleable__control:checked~label.sk-toggleable__label {background-color: #d4ebff;}#sk-container-id-1 div.sk-label input.sk-toggleable__control:checked~label.sk-toggleable__label {background-color: #d4ebff;}#sk-container-id-1 input.sk-hidden--visually {border: 0;clip: rect(1px 1px 1px 1px);clip: rect(1px, 1px, 1px, 1px);height: 1px;margin: -1px;overflow: hidden;padding: 0;position: absolute;width: 1px;}#sk-container-id-1 div.sk-estimator {font-family: monospace;background-color: #f0f8ff;border: 1px dotted black;border-radius: 0.25em;box-sizing: border-box;margin-bottom: 0.5em;}#sk-container-id-1 div.sk-estimator:hover {background-color: #d4ebff;}#sk-container-id-1 div.sk-parallel-item::after {content: \"\";width: 100%;border-bottom: 1px solid gray;flex-grow: 1;}#sk-container-id-1 div.sk-label:hover label.sk-toggleable__label {background-color: #d4ebff;}#sk-container-id-1 div.sk-serial::before {content: \"\";position: absolute;border-left: 1px solid gray;box-sizing: border-box;top: 0;bottom: 0;left: 50%;z-index: 0;}#sk-container-id-1 div.sk-serial {display: flex;flex-direction: column;align-items: center;background-color: white;padding-right: 0.2em;padding-left: 0.2em;position: relative;}#sk-container-id-1 div.sk-item {position: relative;z-index: 1;}#sk-container-id-1 div.sk-parallel {display: flex;align-items: stretch;justify-content: center;background-color: white;position: relative;}#sk-container-id-1 div.sk-item::before, #sk-container-id-1 div.sk-parallel-item::before {content: \"\";position: absolute;border-left: 1px solid gray;box-sizing: border-box;top: 0;bottom: 0;left: 50%;z-index: -1;}#sk-container-id-1 div.sk-parallel-item {display: flex;flex-direction: column;z-index: 1;position: relative;background-color: white;}#sk-container-id-1 div.sk-parallel-item:first-child::after {align-self: flex-end;width: 50%;}#sk-container-id-1 div.sk-parallel-item:last-child::after {align-self: flex-start;width: 50%;}#sk-container-id-1 div.sk-parallel-item:only-child::after {width: 0;}#sk-container-id-1 div.sk-dashed-wrapped {border: 1px dashed gray;margin: 0 0.4em 0.5em 0.4em;box-sizing: border-box;padding-bottom: 0.4em;background-color: white;}#sk-container-id-1 div.sk-label label {font-family: monospace;font-weight: bold;display: inline-block;line-height: 1.2em;}#sk-container-id-1 div.sk-label-container {text-align: center;}#sk-container-id-1 div.sk-container {/* jupyter's `normalize.less` sets `[hidden] { display: none; }` but bootstrap.min.css set `[hidden] { display: none !important; }` so we also need the `!important` here to be able to override the default hidden behavior on the sphinx rendered scikit-learn.org. See: https://github.com/scikit-learn/scikit-learn/issues/21755 */display: inline-block !important;position: relative;}#sk-container-id-1 div.sk-text-repr-fallback {display: none;}</style><div id=\"sk-container-id-1\" class=\"sk-top-container\"><div class=\"sk-text-repr-fallback\"><pre>GridSearchCV(cv=5, estimator=LogisticRegression(), n_jobs=-1,\n",
              "             param_grid={&#x27;C&#x27;: [0.01], &#x27;penalty&#x27;: [&#x27;l1&#x27;],\n",
              "                         &#x27;solver&#x27;: [&#x27;liblinear&#x27;]},\n",
              "             scoring=&#x27;accuracy&#x27;)</pre><b>In a Jupyter environment, please rerun this cell to show the HTML representation or trust the notebook. <br />On GitHub, the HTML representation is unable to render, please try loading this page with nbviewer.org.</b></div><div class=\"sk-container\" hidden><div class=\"sk-item sk-dashed-wrapped\"><div class=\"sk-label-container\"><div class=\"sk-label sk-toggleable\"><input class=\"sk-toggleable__control sk-hidden--visually\" id=\"sk-estimator-id-1\" type=\"checkbox\" ><label for=\"sk-estimator-id-1\" class=\"sk-toggleable__label sk-toggleable__label-arrow\">GridSearchCV</label><div class=\"sk-toggleable__content\"><pre>GridSearchCV(cv=5, estimator=LogisticRegression(), n_jobs=-1,\n",
              "             param_grid={&#x27;C&#x27;: [0.01], &#x27;penalty&#x27;: [&#x27;l1&#x27;],\n",
              "                         &#x27;solver&#x27;: [&#x27;liblinear&#x27;]},\n",
              "             scoring=&#x27;accuracy&#x27;)</pre></div></div></div><div class=\"sk-parallel\"><div class=\"sk-parallel-item\"><div class=\"sk-item\"><div class=\"sk-label-container\"><div class=\"sk-label sk-toggleable\"><input class=\"sk-toggleable__control sk-hidden--visually\" id=\"sk-estimator-id-2\" type=\"checkbox\" ><label for=\"sk-estimator-id-2\" class=\"sk-toggleable__label sk-toggleable__label-arrow\">estimator: LogisticRegression</label><div class=\"sk-toggleable__content\"><pre>LogisticRegression()</pre></div></div></div><div class=\"sk-serial\"><div class=\"sk-item\"><div class=\"sk-estimator sk-toggleable\"><input class=\"sk-toggleable__control sk-hidden--visually\" id=\"sk-estimator-id-3\" type=\"checkbox\" ><label for=\"sk-estimator-id-3\" class=\"sk-toggleable__label sk-toggleable__label-arrow\">LogisticRegression</label><div class=\"sk-toggleable__content\"><pre>LogisticRegression()</pre></div></div></div></div></div></div></div></div></div></div>"
            ],
            "text/plain": [
              "GridSearchCV(cv=5, estimator=LogisticRegression(), n_jobs=-1,\n",
              "             param_grid={'C': [0.01], 'penalty': ['l1'],\n",
              "                         'solver': ['liblinear']},\n",
              "             scoring='accuracy')"
            ]
          },
          "execution_count": 20,
          "metadata": {},
          "output_type": "execute_result"
        }
      ],
      "source": [
        "parametres = {\"penalty\": [\"l1\"], \"C\": [0.01], \"solver\": [\"liblinear\"]}\n",
        "base_clf = LogisticRegression()\n",
        "model = GridSearchCV(base_clf, param_grid=parametres, scoring='accuracy', cv=5, n_jobs=-1,\n",
        "                         verbose=0)\n",
        "\n",
        "model.fit(X_train, y_train)"
      ]
    },
    {
      "cell_type": "code",
      "execution_count": null,
      "metadata": {
        "colab": {
          "base_uri": "https://localhost:8080/"
        },
        "id": "sA-QLg7qJ-uO",
        "outputId": "53bfee15-38f7-464d-fa35-e62a0fca1be4"
      },
      "outputs": [
        {
          "name": "stderr",
          "output_type": "stream",
          "text": [
            "/usr/local/lib/python3.10/dist-packages/sklearn/metrics/_classification.py:1344: UndefinedMetricWarning: Precision and F-score are ill-defined and being set to 0.0 in labels with no predicted samples. Use `zero_division` parameter to control this behavior.\n",
            "  _warn_prf(average, modifier, msg_start, len(result))\n",
            "/usr/local/lib/python3.10/dist-packages/sklearn/metrics/_classification.py:1344: UndefinedMetricWarning: Precision and F-score are ill-defined and being set to 0.0 in labels with no predicted samples. Use `zero_division` parameter to control this behavior.\n",
            "  _warn_prf(average, modifier, msg_start, len(result))\n"
          ]
        },
        {
          "name": "stdout",
          "output_type": "stream",
          "text": [
            "              precision    recall  f1-score   support\n",
            "\n",
            "           0       0.62      0.81      0.70     82337\n",
            "           1       0.52      0.54      0.53     72908\n",
            "           2       0.44      0.19      0.27     40134\n",
            "           3       0.00      0.00      0.00      5394\n",
            "\n",
            "    accuracy                           0.57    200773\n",
            "   macro avg       0.40      0.38      0.37    200773\n",
            "weighted avg       0.53      0.57      0.53    200773\n",
            "\n"
          ]
        },
        {
          "name": "stderr",
          "output_type": "stream",
          "text": [
            "/usr/local/lib/python3.10/dist-packages/sklearn/metrics/_classification.py:1344: UndefinedMetricWarning: Precision and F-score are ill-defined and being set to 0.0 in labels with no predicted samples. Use `zero_division` parameter to control this behavior.\n",
            "  _warn_prf(average, modifier, msg_start, len(result))\n"
          ]
        }
      ],
      "source": [
        "y_pred = model.predict(X_test)\n",
        "print(classification_report(y_test, y_pred))\n"
      ]
    },
    {
      "cell_type": "code",
      "execution_count": null,
      "metadata": {
        "colab": {
          "base_uri": "https://localhost:8080/",
          "height": 276
        },
        "id": "DLXK0EayMfzh",
        "outputId": "97351117-1a9e-49e9-b89f-8023ad56f437"
      },
      "outputs": [
        {
          "name": "stdout",
          "output_type": "stream",
          "text": [
            "[[66309 13533  2495     0]\n",
            " [27935 39662  5311     0]\n",
            " [11471 21039  7624     0]\n",
            " [ 1482  2125  1787     0]]\n"
          ]
        },
        {
          "data": {
            "text/html": [
              "\n",
              "  <div id=\"df-212caa14-31ce-47fa-b7bb-3bbae7b5ac17\" class=\"colab-df-container\">\n",
              "    <div>\n",
              "<style scoped>\n",
              "    .dataframe tbody tr th:only-of-type {\n",
              "        vertical-align: middle;\n",
              "    }\n",
              "\n",
              "    .dataframe tbody tr th {\n",
              "        vertical-align: top;\n",
              "    }\n",
              "\n",
              "    .dataframe thead th {\n",
              "        text-align: right;\n",
              "    }\n",
              "</style>\n",
              "<table border=\"1\" class=\"dataframe\">\n",
              "  <thead>\n",
              "    <tr style=\"text-align: right;\">\n",
              "      <th>Classe prédite</th>\n",
              "      <th>0</th>\n",
              "      <th>1</th>\n",
              "      <th>2</th>\n",
              "    </tr>\n",
              "    <tr>\n",
              "      <th>Classe réelle</th>\n",
              "      <th></th>\n",
              "      <th></th>\n",
              "      <th></th>\n",
              "    </tr>\n",
              "  </thead>\n",
              "  <tbody>\n",
              "    <tr>\n",
              "      <th>0</th>\n",
              "      <td>66309</td>\n",
              "      <td>13533</td>\n",
              "      <td>2495</td>\n",
              "    </tr>\n",
              "    <tr>\n",
              "      <th>1</th>\n",
              "      <td>27935</td>\n",
              "      <td>39662</td>\n",
              "      <td>5311</td>\n",
              "    </tr>\n",
              "    <tr>\n",
              "      <th>2</th>\n",
              "      <td>11471</td>\n",
              "      <td>21039</td>\n",
              "      <td>7624</td>\n",
              "    </tr>\n",
              "    <tr>\n",
              "      <th>3</th>\n",
              "      <td>1482</td>\n",
              "      <td>2125</td>\n",
              "      <td>1787</td>\n",
              "    </tr>\n",
              "  </tbody>\n",
              "</table>\n",
              "</div>\n",
              "    <div class=\"colab-df-buttons\">\n",
              "\n",
              "  <div class=\"colab-df-container\">\n",
              "    <button class=\"colab-df-convert\" onclick=\"convertToInteractive('df-212caa14-31ce-47fa-b7bb-3bbae7b5ac17')\"\n",
              "            title=\"Convert this dataframe to an interactive table.\"\n",
              "            style=\"display:none;\">\n",
              "\n",
              "  <svg xmlns=\"http://www.w3.org/2000/svg\" height=\"24px\" viewBox=\"0 -960 960 960\">\n",
              "    <path d=\"M120-120v-720h720v720H120Zm60-500h600v-160H180v160Zm220 220h160v-160H400v160Zm0 220h160v-160H400v160ZM180-400h160v-160H180v160Zm440 0h160v-160H620v160ZM180-180h160v-160H180v160Zm440 0h160v-160H620v160Z\"/>\n",
              "  </svg>\n",
              "    </button>\n",
              "\n",
              "  <style>\n",
              "    .colab-df-container {\n",
              "      display:flex;\n",
              "      gap: 12px;\n",
              "    }\n",
              "\n",
              "    .colab-df-convert {\n",
              "      background-color: #E8F0FE;\n",
              "      border: none;\n",
              "      border-radius: 50%;\n",
              "      cursor: pointer;\n",
              "      display: none;\n",
              "      fill: #1967D2;\n",
              "      height: 32px;\n",
              "      padding: 0 0 0 0;\n",
              "      width: 32px;\n",
              "    }\n",
              "\n",
              "    .colab-df-convert:hover {\n",
              "      background-color: #E2EBFA;\n",
              "      box-shadow: 0px 1px 2px rgba(60, 64, 67, 0.3), 0px 1px 3px 1px rgba(60, 64, 67, 0.15);\n",
              "      fill: #174EA6;\n",
              "    }\n",
              "\n",
              "    .colab-df-buttons div {\n",
              "      margin-bottom: 4px;\n",
              "    }\n",
              "\n",
              "    [theme=dark] .colab-df-convert {\n",
              "      background-color: #3B4455;\n",
              "      fill: #D2E3FC;\n",
              "    }\n",
              "\n",
              "    [theme=dark] .colab-df-convert:hover {\n",
              "      background-color: #434B5C;\n",
              "      box-shadow: 0px 1px 3px 1px rgba(0, 0, 0, 0.15);\n",
              "      filter: drop-shadow(0px 1px 2px rgba(0, 0, 0, 0.3));\n",
              "      fill: #FFFFFF;\n",
              "    }\n",
              "  </style>\n",
              "\n",
              "    <script>\n",
              "      const buttonEl =\n",
              "        document.querySelector('#df-212caa14-31ce-47fa-b7bb-3bbae7b5ac17 button.colab-df-convert');\n",
              "      buttonEl.style.display =\n",
              "        google.colab.kernel.accessAllowed ? 'block' : 'none';\n",
              "\n",
              "      async function convertToInteractive(key) {\n",
              "        const element = document.querySelector('#df-212caa14-31ce-47fa-b7bb-3bbae7b5ac17');\n",
              "        const dataTable =\n",
              "          await google.colab.kernel.invokeFunction('convertToInteractive',\n",
              "                                                    [key], {});\n",
              "        if (!dataTable) return;\n",
              "\n",
              "        const docLinkHtml = 'Like what you see? Visit the ' +\n",
              "          '<a target=\"_blank\" href=https://colab.research.google.com/notebooks/data_table.ipynb>data table notebook</a>'\n",
              "          + ' to learn more about interactive tables.';\n",
              "        element.innerHTML = '';\n",
              "        dataTable['output_type'] = 'display_data';\n",
              "        await google.colab.output.renderOutput(dataTable, element);\n",
              "        const docLink = document.createElement('div');\n",
              "        docLink.innerHTML = docLinkHtml;\n",
              "        element.appendChild(docLink);\n",
              "      }\n",
              "    </script>\n",
              "  </div>\n",
              "\n",
              "\n",
              "<div id=\"df-0e6fd525-538e-4d5b-81a3-6c43956c9c74\">\n",
              "  <button class=\"colab-df-quickchart\" onclick=\"quickchart('df-0e6fd525-538e-4d5b-81a3-6c43956c9c74')\"\n",
              "            title=\"Suggest charts.\"\n",
              "            style=\"display:none;\">\n",
              "\n",
              "<svg xmlns=\"http://www.w3.org/2000/svg\" height=\"24px\"viewBox=\"0 0 24 24\"\n",
              "     width=\"24px\">\n",
              "    <g>\n",
              "        <path d=\"M19 3H5c-1.1 0-2 .9-2 2v14c0 1.1.9 2 2 2h14c1.1 0 2-.9 2-2V5c0-1.1-.9-2-2-2zM9 17H7v-7h2v7zm4 0h-2V7h2v10zm4 0h-2v-4h2v4z\"/>\n",
              "    </g>\n",
              "</svg>\n",
              "  </button>\n",
              "\n",
              "<style>\n",
              "  .colab-df-quickchart {\n",
              "      --bg-color: #E8F0FE;\n",
              "      --fill-color: #1967D2;\n",
              "      --hover-bg-color: #E2EBFA;\n",
              "      --hover-fill-color: #174EA6;\n",
              "      --disabled-fill-color: #AAA;\n",
              "      --disabled-bg-color: #DDD;\n",
              "  }\n",
              "\n",
              "  [theme=dark] .colab-df-quickchart {\n",
              "      --bg-color: #3B4455;\n",
              "      --fill-color: #D2E3FC;\n",
              "      --hover-bg-color: #434B5C;\n",
              "      --hover-fill-color: #FFFFFF;\n",
              "      --disabled-bg-color: #3B4455;\n",
              "      --disabled-fill-color: #666;\n",
              "  }\n",
              "\n",
              "  .colab-df-quickchart {\n",
              "    background-color: var(--bg-color);\n",
              "    border: none;\n",
              "    border-radius: 50%;\n",
              "    cursor: pointer;\n",
              "    display: none;\n",
              "    fill: var(--fill-color);\n",
              "    height: 32px;\n",
              "    padding: 0;\n",
              "    width: 32px;\n",
              "  }\n",
              "\n",
              "  .colab-df-quickchart:hover {\n",
              "    background-color: var(--hover-bg-color);\n",
              "    box-shadow: 0 1px 2px rgba(60, 64, 67, 0.3), 0 1px 3px 1px rgba(60, 64, 67, 0.15);\n",
              "    fill: var(--button-hover-fill-color);\n",
              "  }\n",
              "\n",
              "  .colab-df-quickchart-complete:disabled,\n",
              "  .colab-df-quickchart-complete:disabled:hover {\n",
              "    background-color: var(--disabled-bg-color);\n",
              "    fill: var(--disabled-fill-color);\n",
              "    box-shadow: none;\n",
              "  }\n",
              "\n",
              "  .colab-df-spinner {\n",
              "    border: 2px solid var(--fill-color);\n",
              "    border-color: transparent;\n",
              "    border-bottom-color: var(--fill-color);\n",
              "    animation:\n",
              "      spin 1s steps(1) infinite;\n",
              "  }\n",
              "\n",
              "  @keyframes spin {\n",
              "    0% {\n",
              "      border-color: transparent;\n",
              "      border-bottom-color: var(--fill-color);\n",
              "      border-left-color: var(--fill-color);\n",
              "    }\n",
              "    20% {\n",
              "      border-color: transparent;\n",
              "      border-left-color: var(--fill-color);\n",
              "      border-top-color: var(--fill-color);\n",
              "    }\n",
              "    30% {\n",
              "      border-color: transparent;\n",
              "      border-left-color: var(--fill-color);\n",
              "      border-top-color: var(--fill-color);\n",
              "      border-right-color: var(--fill-color);\n",
              "    }\n",
              "    40% {\n",
              "      border-color: transparent;\n",
              "      border-right-color: var(--fill-color);\n",
              "      border-top-color: var(--fill-color);\n",
              "    }\n",
              "    60% {\n",
              "      border-color: transparent;\n",
              "      border-right-color: var(--fill-color);\n",
              "    }\n",
              "    80% {\n",
              "      border-color: transparent;\n",
              "      border-right-color: var(--fill-color);\n",
              "      border-bottom-color: var(--fill-color);\n",
              "    }\n",
              "    90% {\n",
              "      border-color: transparent;\n",
              "      border-bottom-color: var(--fill-color);\n",
              "    }\n",
              "  }\n",
              "</style>\n",
              "\n",
              "  <script>\n",
              "    async function quickchart(key) {\n",
              "      const quickchartButtonEl =\n",
              "        document.querySelector('#' + key + ' button');\n",
              "      quickchartButtonEl.disabled = true;  // To prevent multiple clicks.\n",
              "      quickchartButtonEl.classList.add('colab-df-spinner');\n",
              "      try {\n",
              "        const charts = await google.colab.kernel.invokeFunction(\n",
              "            'suggestCharts', [key], {});\n",
              "      } catch (error) {\n",
              "        console.error('Error during call to suggestCharts:', error);\n",
              "      }\n",
              "      quickchartButtonEl.classList.remove('colab-df-spinner');\n",
              "      quickchartButtonEl.classList.add('colab-df-quickchart-complete');\n",
              "    }\n",
              "    (() => {\n",
              "      let quickchartButtonEl =\n",
              "        document.querySelector('#df-0e6fd525-538e-4d5b-81a3-6c43956c9c74 button');\n",
              "      quickchartButtonEl.style.display =\n",
              "        google.colab.kernel.accessAllowed ? 'block' : 'none';\n",
              "    })();\n",
              "  </script>\n",
              "</div>\n",
              "    </div>\n",
              "  </div>\n"
            ],
            "text/plain": [
              "Classe prédite      0      1     2\n",
              "Classe réelle                     \n",
              "0               66309  13533  2495\n",
              "1               27935  39662  5311\n",
              "2               11471  21039  7624\n",
              "3                1482   2125  1787"
            ]
          },
          "execution_count": 22,
          "metadata": {},
          "output_type": "execute_result"
        }
      ],
      "source": [
        "cm = confusion_matrix(y_test,y_pred)\n",
        "print(cm)\n",
        "cm = pd.crosstab(y_test, y_pred, rownames=['Classe réelle'], colnames=['Classe prédite'])\n",
        "cm"
      ]
    },
    {
      "cell_type": "code",
      "execution_count": null,
      "metadata": {
        "id": "8evasqEeO2_5"
      },
      "outputs": [],
      "source": [
        "## Entraîner et évaluer un modèle multiclass avec les variables d'origine (sans analyse factorielle)\n",
        "seed=42\n",
        "scaler = StandardScaler()\n",
        "X_scaled = scaler.fit_transform(X)\n",
        "\n",
        "X_train, X_test, y_train, y_test = train_test_split(X_scaled, y_multiclass,\n",
        "                                                      test_size=0.2,\n",
        "                                                      random_state=seed,\n",
        "                                                      stratify=y)"
      ]
    },
    {
      "cell_type": "code",
      "execution_count": null,
      "metadata": {
        "colab": {
          "background_save": true
        },
        "id": "_tERdkFCO4i-",
        "outputId": "6ca9e3e1-3702-43ad-8c82-dbbe8d39c735"
      },
      "outputs": [
        {
          "data": {
            "text/html": [
              "<style>#sk-container-id-2 {color: black;background-color: white;}#sk-container-id-2 pre{padding: 0;}#sk-container-id-2 div.sk-toggleable {background-color: white;}#sk-container-id-2 label.sk-toggleable__label {cursor: pointer;display: block;width: 100%;margin-bottom: 0;padding: 0.3em;box-sizing: border-box;text-align: center;}#sk-container-id-2 label.sk-toggleable__label-arrow:before {content: \"▸\";float: left;margin-right: 0.25em;color: #696969;}#sk-container-id-2 label.sk-toggleable__label-arrow:hover:before {color: black;}#sk-container-id-2 div.sk-estimator:hover label.sk-toggleable__label-arrow:before {color: black;}#sk-container-id-2 div.sk-toggleable__content {max-height: 0;max-width: 0;overflow: hidden;text-align: left;background-color: #f0f8ff;}#sk-container-id-2 div.sk-toggleable__content pre {margin: 0.2em;color: black;border-radius: 0.25em;background-color: #f0f8ff;}#sk-container-id-2 input.sk-toggleable__control:checked~div.sk-toggleable__content {max-height: 200px;max-width: 100%;overflow: auto;}#sk-container-id-2 input.sk-toggleable__control:checked~label.sk-toggleable__label-arrow:before {content: \"▾\";}#sk-container-id-2 div.sk-estimator input.sk-toggleable__control:checked~label.sk-toggleable__label {background-color: #d4ebff;}#sk-container-id-2 div.sk-label input.sk-toggleable__control:checked~label.sk-toggleable__label {background-color: #d4ebff;}#sk-container-id-2 input.sk-hidden--visually {border: 0;clip: rect(1px 1px 1px 1px);clip: rect(1px, 1px, 1px, 1px);height: 1px;margin: -1px;overflow: hidden;padding: 0;position: absolute;width: 1px;}#sk-container-id-2 div.sk-estimator {font-family: monospace;background-color: #f0f8ff;border: 1px dotted black;border-radius: 0.25em;box-sizing: border-box;margin-bottom: 0.5em;}#sk-container-id-2 div.sk-estimator:hover {background-color: #d4ebff;}#sk-container-id-2 div.sk-parallel-item::after {content: \"\";width: 100%;border-bottom: 1px solid gray;flex-grow: 1;}#sk-container-id-2 div.sk-label:hover label.sk-toggleable__label {background-color: #d4ebff;}#sk-container-id-2 div.sk-serial::before {content: \"\";position: absolute;border-left: 1px solid gray;box-sizing: border-box;top: 0;bottom: 0;left: 50%;z-index: 0;}#sk-container-id-2 div.sk-serial {display: flex;flex-direction: column;align-items: center;background-color: white;padding-right: 0.2em;padding-left: 0.2em;position: relative;}#sk-container-id-2 div.sk-item {position: relative;z-index: 1;}#sk-container-id-2 div.sk-parallel {display: flex;align-items: stretch;justify-content: center;background-color: white;position: relative;}#sk-container-id-2 div.sk-item::before, #sk-container-id-2 div.sk-parallel-item::before {content: \"\";position: absolute;border-left: 1px solid gray;box-sizing: border-box;top: 0;bottom: 0;left: 50%;z-index: -1;}#sk-container-id-2 div.sk-parallel-item {display: flex;flex-direction: column;z-index: 1;position: relative;background-color: white;}#sk-container-id-2 div.sk-parallel-item:first-child::after {align-self: flex-end;width: 50%;}#sk-container-id-2 div.sk-parallel-item:last-child::after {align-self: flex-start;width: 50%;}#sk-container-id-2 div.sk-parallel-item:only-child::after {width: 0;}#sk-container-id-2 div.sk-dashed-wrapped {border: 1px dashed gray;margin: 0 0.4em 0.5em 0.4em;box-sizing: border-box;padding-bottom: 0.4em;background-color: white;}#sk-container-id-2 div.sk-label label {font-family: monospace;font-weight: bold;display: inline-block;line-height: 1.2em;}#sk-container-id-2 div.sk-label-container {text-align: center;}#sk-container-id-2 div.sk-container {/* jupyter's `normalize.less` sets `[hidden] { display: none; }` but bootstrap.min.css set `[hidden] { display: none !important; }` so we also need the `!important` here to be able to override the default hidden behavior on the sphinx rendered scikit-learn.org. See: https://github.com/scikit-learn/scikit-learn/issues/21755 */display: inline-block !important;position: relative;}#sk-container-id-2 div.sk-text-repr-fallback {display: none;}</style><div id=\"sk-container-id-2\" class=\"sk-top-container\"><div class=\"sk-text-repr-fallback\"><pre>GridSearchCV(cv=5, estimator=LogisticRegression(), n_jobs=-1,\n",
              "             param_grid={&#x27;C&#x27;: [0.01], &#x27;penalty&#x27;: [&#x27;l1&#x27;],\n",
              "                         &#x27;solver&#x27;: [&#x27;liblinear&#x27;]},\n",
              "             scoring=&#x27;accuracy&#x27;)</pre><b>In a Jupyter environment, please rerun this cell to show the HTML representation or trust the notebook. <br />On GitHub, the HTML representation is unable to render, please try loading this page with nbviewer.org.</b></div><div class=\"sk-container\" hidden><div class=\"sk-item sk-dashed-wrapped\"><div class=\"sk-label-container\"><div class=\"sk-label sk-toggleable\"><input class=\"sk-toggleable__control sk-hidden--visually\" id=\"sk-estimator-id-4\" type=\"checkbox\" ><label for=\"sk-estimator-id-4\" class=\"sk-toggleable__label sk-toggleable__label-arrow\">GridSearchCV</label><div class=\"sk-toggleable__content\"><pre>GridSearchCV(cv=5, estimator=LogisticRegression(), n_jobs=-1,\n",
              "             param_grid={&#x27;C&#x27;: [0.01], &#x27;penalty&#x27;: [&#x27;l1&#x27;],\n",
              "                         &#x27;solver&#x27;: [&#x27;liblinear&#x27;]},\n",
              "             scoring=&#x27;accuracy&#x27;)</pre></div></div></div><div class=\"sk-parallel\"><div class=\"sk-parallel-item\"><div class=\"sk-item\"><div class=\"sk-label-container\"><div class=\"sk-label sk-toggleable\"><input class=\"sk-toggleable__control sk-hidden--visually\" id=\"sk-estimator-id-5\" type=\"checkbox\" ><label for=\"sk-estimator-id-5\" class=\"sk-toggleable__label sk-toggleable__label-arrow\">estimator: LogisticRegression</label><div class=\"sk-toggleable__content\"><pre>LogisticRegression()</pre></div></div></div><div class=\"sk-serial\"><div class=\"sk-item\"><div class=\"sk-estimator sk-toggleable\"><input class=\"sk-toggleable__control sk-hidden--visually\" id=\"sk-estimator-id-6\" type=\"checkbox\" ><label for=\"sk-estimator-id-6\" class=\"sk-toggleable__label sk-toggleable__label-arrow\">LogisticRegression</label><div class=\"sk-toggleable__content\"><pre>LogisticRegression()</pre></div></div></div></div></div></div></div></div></div></div>"
            ],
            "text/plain": [
              "GridSearchCV(cv=5, estimator=LogisticRegression(), n_jobs=-1,\n",
              "             param_grid={'C': [0.01], 'penalty': ['l1'],\n",
              "                         'solver': ['liblinear']},\n",
              "             scoring='accuracy')"
            ]
          },
          "execution_count": 24,
          "metadata": {},
          "output_type": "execute_result"
        }
      ],
      "source": [
        "parametres = {\"penalty\": [\"l1\"], \"C\": [0.01], \"solver\": [\"liblinear\"]}\n",
        "base_clf = LogisticRegression()\n",
        "model = GridSearchCV(base_clf, param_grid=parametres, scoring='accuracy', cv=5, n_jobs=-1,\n",
        "                         verbose=0)\n",
        "\n",
        "model.fit(X_train, y_train)"
      ]
    },
    {
      "cell_type": "code",
      "execution_count": null,
      "metadata": {
        "colab": {
          "base_uri": "https://localhost:8080/"
        },
        "id": "zuL7NwRx3Y5U",
        "outputId": "b18c3d09-8957-49ea-d9ea-941b3798db7a"
      },
      "outputs": [
        {
          "output_type": "stream",
          "name": "stderr",
          "text": [
            "/usr/local/lib/python3.10/dist-packages/sklearn/metrics/_classification.py:1344: UndefinedMetricWarning: Precision and F-score are ill-defined and being set to 0.0 in labels with no predicted samples. Use `zero_division` parameter to control this behavior.\n",
            "  _warn_prf(average, modifier, msg_start, len(result))\n",
            "/usr/local/lib/python3.10/dist-packages/sklearn/metrics/_classification.py:1344: UndefinedMetricWarning: Precision and F-score are ill-defined and being set to 0.0 in labels with no predicted samples. Use `zero_division` parameter to control this behavior.\n",
            "  _warn_prf(average, modifier, msg_start, len(result))\n"
          ]
        },
        {
          "output_type": "stream",
          "name": "stdout",
          "text": [
            "              precision    recall  f1-score   support\n",
            "\n",
            "           0       0.60      0.89      0.72     82337\n",
            "           1       0.56      0.48      0.52     72908\n",
            "           2       0.46      0.20      0.28     40134\n",
            "           3       0.00      0.00      0.00      5394\n",
            "\n",
            "    accuracy                           0.58    200773\n",
            "   macro avg       0.41      0.39      0.38    200773\n",
            "weighted avg       0.54      0.58      0.54    200773\n",
            "\n"
          ]
        },
        {
          "output_type": "stream",
          "name": "stderr",
          "text": [
            "/usr/local/lib/python3.10/dist-packages/sklearn/metrics/_classification.py:1344: UndefinedMetricWarning: Precision and F-score are ill-defined and being set to 0.0 in labels with no predicted samples. Use `zero_division` parameter to control this behavior.\n",
            "  _warn_prf(average, modifier, msg_start, len(result))\n"
          ]
        }
      ],
      "source": [
        "y_pred = model.predict(X_test)\n",
        "print(classification_report(y_test, y_pred))"
      ]
    },
    {
      "cell_type": "code",
      "execution_count": null,
      "metadata": {
        "colab": {
          "base_uri": "https://localhost:8080/",
          "height": 276
        },
        "id": "A5dB6Q39QkjA",
        "outputId": "85dc76b8-f093-47d7-97a9-5d238ee96a92"
      },
      "outputs": [
        {
          "output_type": "stream",
          "name": "stdout",
          "text": [
            "[[73157  7011  2169     0]\n",
            " [32569 34835  5504     0]\n",
            " [13996 18091  8047     0]\n",
            " [ 1866  1748  1780     0]]\n"
          ]
        },
        {
          "output_type": "execute_result",
          "data": {
            "text/plain": [
              "Classe prédite      0      1     2\n",
              "Classe réelle                     \n",
              "0               73157   7011  2169\n",
              "1               32569  34835  5504\n",
              "2               13996  18091  8047\n",
              "3                1866   1748  1780"
            ],
            "text/html": [
              "\n",
              "  <div id=\"df-34021680-92d7-4ef5-80e1-f44d148b88ea\" class=\"colab-df-container\">\n",
              "    <div>\n",
              "<style scoped>\n",
              "    .dataframe tbody tr th:only-of-type {\n",
              "        vertical-align: middle;\n",
              "    }\n",
              "\n",
              "    .dataframe tbody tr th {\n",
              "        vertical-align: top;\n",
              "    }\n",
              "\n",
              "    .dataframe thead th {\n",
              "        text-align: right;\n",
              "    }\n",
              "</style>\n",
              "<table border=\"1\" class=\"dataframe\">\n",
              "  <thead>\n",
              "    <tr style=\"text-align: right;\">\n",
              "      <th>Classe prédite</th>\n",
              "      <th>0</th>\n",
              "      <th>1</th>\n",
              "      <th>2</th>\n",
              "    </tr>\n",
              "    <tr>\n",
              "      <th>Classe réelle</th>\n",
              "      <th></th>\n",
              "      <th></th>\n",
              "      <th></th>\n",
              "    </tr>\n",
              "  </thead>\n",
              "  <tbody>\n",
              "    <tr>\n",
              "      <th>0</th>\n",
              "      <td>73157</td>\n",
              "      <td>7011</td>\n",
              "      <td>2169</td>\n",
              "    </tr>\n",
              "    <tr>\n",
              "      <th>1</th>\n",
              "      <td>32569</td>\n",
              "      <td>34835</td>\n",
              "      <td>5504</td>\n",
              "    </tr>\n",
              "    <tr>\n",
              "      <th>2</th>\n",
              "      <td>13996</td>\n",
              "      <td>18091</td>\n",
              "      <td>8047</td>\n",
              "    </tr>\n",
              "    <tr>\n",
              "      <th>3</th>\n",
              "      <td>1866</td>\n",
              "      <td>1748</td>\n",
              "      <td>1780</td>\n",
              "    </tr>\n",
              "  </tbody>\n",
              "</table>\n",
              "</div>\n",
              "    <div class=\"colab-df-buttons\">\n",
              "\n",
              "  <div class=\"colab-df-container\">\n",
              "    <button class=\"colab-df-convert\" onclick=\"convertToInteractive('df-34021680-92d7-4ef5-80e1-f44d148b88ea')\"\n",
              "            title=\"Convert this dataframe to an interactive table.\"\n",
              "            style=\"display:none;\">\n",
              "\n",
              "  <svg xmlns=\"http://www.w3.org/2000/svg\" height=\"24px\" viewBox=\"0 -960 960 960\">\n",
              "    <path d=\"M120-120v-720h720v720H120Zm60-500h600v-160H180v160Zm220 220h160v-160H400v160Zm0 220h160v-160H400v160ZM180-400h160v-160H180v160Zm440 0h160v-160H620v160ZM180-180h160v-160H180v160Zm440 0h160v-160H620v160Z\"/>\n",
              "  </svg>\n",
              "    </button>\n",
              "\n",
              "  <style>\n",
              "    .colab-df-container {\n",
              "      display:flex;\n",
              "      gap: 12px;\n",
              "    }\n",
              "\n",
              "    .colab-df-convert {\n",
              "      background-color: #E8F0FE;\n",
              "      border: none;\n",
              "      border-radius: 50%;\n",
              "      cursor: pointer;\n",
              "      display: none;\n",
              "      fill: #1967D2;\n",
              "      height: 32px;\n",
              "      padding: 0 0 0 0;\n",
              "      width: 32px;\n",
              "    }\n",
              "\n",
              "    .colab-df-convert:hover {\n",
              "      background-color: #E2EBFA;\n",
              "      box-shadow: 0px 1px 2px rgba(60, 64, 67, 0.3), 0px 1px 3px 1px rgba(60, 64, 67, 0.15);\n",
              "      fill: #174EA6;\n",
              "    }\n",
              "\n",
              "    .colab-df-buttons div {\n",
              "      margin-bottom: 4px;\n",
              "    }\n",
              "\n",
              "    [theme=dark] .colab-df-convert {\n",
              "      background-color: #3B4455;\n",
              "      fill: #D2E3FC;\n",
              "    }\n",
              "\n",
              "    [theme=dark] .colab-df-convert:hover {\n",
              "      background-color: #434B5C;\n",
              "      box-shadow: 0px 1px 3px 1px rgba(0, 0, 0, 0.15);\n",
              "      filter: drop-shadow(0px 1px 2px rgba(0, 0, 0, 0.3));\n",
              "      fill: #FFFFFF;\n",
              "    }\n",
              "  </style>\n",
              "\n",
              "    <script>\n",
              "      const buttonEl =\n",
              "        document.querySelector('#df-34021680-92d7-4ef5-80e1-f44d148b88ea button.colab-df-convert');\n",
              "      buttonEl.style.display =\n",
              "        google.colab.kernel.accessAllowed ? 'block' : 'none';\n",
              "\n",
              "      async function convertToInteractive(key) {\n",
              "        const element = document.querySelector('#df-34021680-92d7-4ef5-80e1-f44d148b88ea');\n",
              "        const dataTable =\n",
              "          await google.colab.kernel.invokeFunction('convertToInteractive',\n",
              "                                                    [key], {});\n",
              "        if (!dataTable) return;\n",
              "\n",
              "        const docLinkHtml = 'Like what you see? Visit the ' +\n",
              "          '<a target=\"_blank\" href=https://colab.research.google.com/notebooks/data_table.ipynb>data table notebook</a>'\n",
              "          + ' to learn more about interactive tables.';\n",
              "        element.innerHTML = '';\n",
              "        dataTable['output_type'] = 'display_data';\n",
              "        await google.colab.output.renderOutput(dataTable, element);\n",
              "        const docLink = document.createElement('div');\n",
              "        docLink.innerHTML = docLinkHtml;\n",
              "        element.appendChild(docLink);\n",
              "      }\n",
              "    </script>\n",
              "  </div>\n",
              "\n",
              "\n",
              "<div id=\"df-07d92ac8-d03e-4399-9bbe-fedf37a578f0\">\n",
              "  <button class=\"colab-df-quickchart\" onclick=\"quickchart('df-07d92ac8-d03e-4399-9bbe-fedf37a578f0')\"\n",
              "            title=\"Suggest charts.\"\n",
              "            style=\"display:none;\">\n",
              "\n",
              "<svg xmlns=\"http://www.w3.org/2000/svg\" height=\"24px\"viewBox=\"0 0 24 24\"\n",
              "     width=\"24px\">\n",
              "    <g>\n",
              "        <path d=\"M19 3H5c-1.1 0-2 .9-2 2v14c0 1.1.9 2 2 2h14c1.1 0 2-.9 2-2V5c0-1.1-.9-2-2-2zM9 17H7v-7h2v7zm4 0h-2V7h2v10zm4 0h-2v-4h2v4z\"/>\n",
              "    </g>\n",
              "</svg>\n",
              "  </button>\n",
              "\n",
              "<style>\n",
              "  .colab-df-quickchart {\n",
              "      --bg-color: #E8F0FE;\n",
              "      --fill-color: #1967D2;\n",
              "      --hover-bg-color: #E2EBFA;\n",
              "      --hover-fill-color: #174EA6;\n",
              "      --disabled-fill-color: #AAA;\n",
              "      --disabled-bg-color: #DDD;\n",
              "  }\n",
              "\n",
              "  [theme=dark] .colab-df-quickchart {\n",
              "      --bg-color: #3B4455;\n",
              "      --fill-color: #D2E3FC;\n",
              "      --hover-bg-color: #434B5C;\n",
              "      --hover-fill-color: #FFFFFF;\n",
              "      --disabled-bg-color: #3B4455;\n",
              "      --disabled-fill-color: #666;\n",
              "  }\n",
              "\n",
              "  .colab-df-quickchart {\n",
              "    background-color: var(--bg-color);\n",
              "    border: none;\n",
              "    border-radius: 50%;\n",
              "    cursor: pointer;\n",
              "    display: none;\n",
              "    fill: var(--fill-color);\n",
              "    height: 32px;\n",
              "    padding: 0;\n",
              "    width: 32px;\n",
              "  }\n",
              "\n",
              "  .colab-df-quickchart:hover {\n",
              "    background-color: var(--hover-bg-color);\n",
              "    box-shadow: 0 1px 2px rgba(60, 64, 67, 0.3), 0 1px 3px 1px rgba(60, 64, 67, 0.15);\n",
              "    fill: var(--button-hover-fill-color);\n",
              "  }\n",
              "\n",
              "  .colab-df-quickchart-complete:disabled,\n",
              "  .colab-df-quickchart-complete:disabled:hover {\n",
              "    background-color: var(--disabled-bg-color);\n",
              "    fill: var(--disabled-fill-color);\n",
              "    box-shadow: none;\n",
              "  }\n",
              "\n",
              "  .colab-df-spinner {\n",
              "    border: 2px solid var(--fill-color);\n",
              "    border-color: transparent;\n",
              "    border-bottom-color: var(--fill-color);\n",
              "    animation:\n",
              "      spin 1s steps(1) infinite;\n",
              "  }\n",
              "\n",
              "  @keyframes spin {\n",
              "    0% {\n",
              "      border-color: transparent;\n",
              "      border-bottom-color: var(--fill-color);\n",
              "      border-left-color: var(--fill-color);\n",
              "    }\n",
              "    20% {\n",
              "      border-color: transparent;\n",
              "      border-left-color: var(--fill-color);\n",
              "      border-top-color: var(--fill-color);\n",
              "    }\n",
              "    30% {\n",
              "      border-color: transparent;\n",
              "      border-left-color: var(--fill-color);\n",
              "      border-top-color: var(--fill-color);\n",
              "      border-right-color: var(--fill-color);\n",
              "    }\n",
              "    40% {\n",
              "      border-color: transparent;\n",
              "      border-right-color: var(--fill-color);\n",
              "      border-top-color: var(--fill-color);\n",
              "    }\n",
              "    60% {\n",
              "      border-color: transparent;\n",
              "      border-right-color: var(--fill-color);\n",
              "    }\n",
              "    80% {\n",
              "      border-color: transparent;\n",
              "      border-right-color: var(--fill-color);\n",
              "      border-bottom-color: var(--fill-color);\n",
              "    }\n",
              "    90% {\n",
              "      border-color: transparent;\n",
              "      border-bottom-color: var(--fill-color);\n",
              "    }\n",
              "  }\n",
              "</style>\n",
              "\n",
              "  <script>\n",
              "    async function quickchart(key) {\n",
              "      const quickchartButtonEl =\n",
              "        document.querySelector('#' + key + ' button');\n",
              "      quickchartButtonEl.disabled = true;  // To prevent multiple clicks.\n",
              "      quickchartButtonEl.classList.add('colab-df-spinner');\n",
              "      try {\n",
              "        const charts = await google.colab.kernel.invokeFunction(\n",
              "            'suggestCharts', [key], {});\n",
              "      } catch (error) {\n",
              "        console.error('Error during call to suggestCharts:', error);\n",
              "      }\n",
              "      quickchartButtonEl.classList.remove('colab-df-spinner');\n",
              "      quickchartButtonEl.classList.add('colab-df-quickchart-complete');\n",
              "    }\n",
              "    (() => {\n",
              "      let quickchartButtonEl =\n",
              "        document.querySelector('#df-07d92ac8-d03e-4399-9bbe-fedf37a578f0 button');\n",
              "      quickchartButtonEl.style.display =\n",
              "        google.colab.kernel.accessAllowed ? 'block' : 'none';\n",
              "    })();\n",
              "  </script>\n",
              "</div>\n",
              "    </div>\n",
              "  </div>\n"
            ]
          },
          "metadata": {},
          "execution_count": 26
        }
      ],
      "source": [
        "cm = confusion_matrix(y_test,y_pred)\n",
        "print(cm)\n",
        "cm = pd.crosstab(y_test, y_pred, rownames=['Classe réelle'], colnames=['Classe prédite'])\n",
        "cm"
      ]
    },
    {
      "cell_type": "code",
      "source": [
        "# Binaire classification - Analyse factorielle\n",
        "seed=42\n",
        "scaler = StandardScaler()\n",
        "X_scaled = scaler.fit_transform(X_latent)\n",
        "\n",
        "X_train, X_test, y_train, y_test = train_test_split(X_scaled, y_binary,\n",
        "                                                      test_size=0.2,\n",
        "                                                      random_state=seed,\n",
        "                                                      stratify=y)"
      ],
      "metadata": {
        "id": "96DIRAXWvZjO"
      },
      "execution_count": null,
      "outputs": []
    },
    {
      "cell_type": "code",
      "source": [
        "parametres = {\"penalty\": [\"l1\"], \"C\": [0.01], \"solver\": [\"liblinear\"]}\n",
        "base_clf = LogisticRegression()\n",
        "model = GridSearchCV(base_clf, param_grid=parametres, scoring='accuracy', cv=5, n_jobs=-1,\n",
        "                         verbose=0)\n",
        "\n",
        "model.fit(X_train, y_train)"
      ],
      "metadata": {
        "colab": {
          "base_uri": "https://localhost:8080/",
          "height": 118
        },
        "id": "F-QhK5FIvvE8",
        "outputId": "488c9676-a602-40c1-9eb5-bfc1a8ee8814"
      },
      "execution_count": null,
      "outputs": [
        {
          "output_type": "execute_result",
          "data": {
            "text/plain": [
              "GridSearchCV(cv=5, estimator=LogisticRegression(), n_jobs=-1,\n",
              "             param_grid={'C': [0.01], 'penalty': ['l1'],\n",
              "                         'solver': ['liblinear']},\n",
              "             scoring='accuracy')"
            ],
            "text/html": [
              "<style>#sk-container-id-1 {color: black;background-color: white;}#sk-container-id-1 pre{padding: 0;}#sk-container-id-1 div.sk-toggleable {background-color: white;}#sk-container-id-1 label.sk-toggleable__label {cursor: pointer;display: block;width: 100%;margin-bottom: 0;padding: 0.3em;box-sizing: border-box;text-align: center;}#sk-container-id-1 label.sk-toggleable__label-arrow:before {content: \"▸\";float: left;margin-right: 0.25em;color: #696969;}#sk-container-id-1 label.sk-toggleable__label-arrow:hover:before {color: black;}#sk-container-id-1 div.sk-estimator:hover label.sk-toggleable__label-arrow:before {color: black;}#sk-container-id-1 div.sk-toggleable__content {max-height: 0;max-width: 0;overflow: hidden;text-align: left;background-color: #f0f8ff;}#sk-container-id-1 div.sk-toggleable__content pre {margin: 0.2em;color: black;border-radius: 0.25em;background-color: #f0f8ff;}#sk-container-id-1 input.sk-toggleable__control:checked~div.sk-toggleable__content {max-height: 200px;max-width: 100%;overflow: auto;}#sk-container-id-1 input.sk-toggleable__control:checked~label.sk-toggleable__label-arrow:before {content: \"▾\";}#sk-container-id-1 div.sk-estimator input.sk-toggleable__control:checked~label.sk-toggleable__label {background-color: #d4ebff;}#sk-container-id-1 div.sk-label input.sk-toggleable__control:checked~label.sk-toggleable__label {background-color: #d4ebff;}#sk-container-id-1 input.sk-hidden--visually {border: 0;clip: rect(1px 1px 1px 1px);clip: rect(1px, 1px, 1px, 1px);height: 1px;margin: -1px;overflow: hidden;padding: 0;position: absolute;width: 1px;}#sk-container-id-1 div.sk-estimator {font-family: monospace;background-color: #f0f8ff;border: 1px dotted black;border-radius: 0.25em;box-sizing: border-box;margin-bottom: 0.5em;}#sk-container-id-1 div.sk-estimator:hover {background-color: #d4ebff;}#sk-container-id-1 div.sk-parallel-item::after {content: \"\";width: 100%;border-bottom: 1px solid gray;flex-grow: 1;}#sk-container-id-1 div.sk-label:hover label.sk-toggleable__label {background-color: #d4ebff;}#sk-container-id-1 div.sk-serial::before {content: \"\";position: absolute;border-left: 1px solid gray;box-sizing: border-box;top: 0;bottom: 0;left: 50%;z-index: 0;}#sk-container-id-1 div.sk-serial {display: flex;flex-direction: column;align-items: center;background-color: white;padding-right: 0.2em;padding-left: 0.2em;position: relative;}#sk-container-id-1 div.sk-item {position: relative;z-index: 1;}#sk-container-id-1 div.sk-parallel {display: flex;align-items: stretch;justify-content: center;background-color: white;position: relative;}#sk-container-id-1 div.sk-item::before, #sk-container-id-1 div.sk-parallel-item::before {content: \"\";position: absolute;border-left: 1px solid gray;box-sizing: border-box;top: 0;bottom: 0;left: 50%;z-index: -1;}#sk-container-id-1 div.sk-parallel-item {display: flex;flex-direction: column;z-index: 1;position: relative;background-color: white;}#sk-container-id-1 div.sk-parallel-item:first-child::after {align-self: flex-end;width: 50%;}#sk-container-id-1 div.sk-parallel-item:last-child::after {align-self: flex-start;width: 50%;}#sk-container-id-1 div.sk-parallel-item:only-child::after {width: 0;}#sk-container-id-1 div.sk-dashed-wrapped {border: 1px dashed gray;margin: 0 0.4em 0.5em 0.4em;box-sizing: border-box;padding-bottom: 0.4em;background-color: white;}#sk-container-id-1 div.sk-label label {font-family: monospace;font-weight: bold;display: inline-block;line-height: 1.2em;}#sk-container-id-1 div.sk-label-container {text-align: center;}#sk-container-id-1 div.sk-container {/* jupyter's `normalize.less` sets `[hidden] { display: none; }` but bootstrap.min.css set `[hidden] { display: none !important; }` so we also need the `!important` here to be able to override the default hidden behavior on the sphinx rendered scikit-learn.org. See: https://github.com/scikit-learn/scikit-learn/issues/21755 */display: inline-block !important;position: relative;}#sk-container-id-1 div.sk-text-repr-fallback {display: none;}</style><div id=\"sk-container-id-1\" class=\"sk-top-container\"><div class=\"sk-text-repr-fallback\"><pre>GridSearchCV(cv=5, estimator=LogisticRegression(), n_jobs=-1,\n",
              "             param_grid={&#x27;C&#x27;: [0.01], &#x27;penalty&#x27;: [&#x27;l1&#x27;],\n",
              "                         &#x27;solver&#x27;: [&#x27;liblinear&#x27;]},\n",
              "             scoring=&#x27;accuracy&#x27;)</pre><b>In a Jupyter environment, please rerun this cell to show the HTML representation or trust the notebook. <br />On GitHub, the HTML representation is unable to render, please try loading this page with nbviewer.org.</b></div><div class=\"sk-container\" hidden><div class=\"sk-item sk-dashed-wrapped\"><div class=\"sk-label-container\"><div class=\"sk-label sk-toggleable\"><input class=\"sk-toggleable__control sk-hidden--visually\" id=\"sk-estimator-id-1\" type=\"checkbox\" ><label for=\"sk-estimator-id-1\" class=\"sk-toggleable__label sk-toggleable__label-arrow\">GridSearchCV</label><div class=\"sk-toggleable__content\"><pre>GridSearchCV(cv=5, estimator=LogisticRegression(), n_jobs=-1,\n",
              "             param_grid={&#x27;C&#x27;: [0.01], &#x27;penalty&#x27;: [&#x27;l1&#x27;],\n",
              "                         &#x27;solver&#x27;: [&#x27;liblinear&#x27;]},\n",
              "             scoring=&#x27;accuracy&#x27;)</pre></div></div></div><div class=\"sk-parallel\"><div class=\"sk-parallel-item\"><div class=\"sk-item\"><div class=\"sk-label-container\"><div class=\"sk-label sk-toggleable\"><input class=\"sk-toggleable__control sk-hidden--visually\" id=\"sk-estimator-id-2\" type=\"checkbox\" ><label for=\"sk-estimator-id-2\" class=\"sk-toggleable__label sk-toggleable__label-arrow\">estimator: LogisticRegression</label><div class=\"sk-toggleable__content\"><pre>LogisticRegression()</pre></div></div></div><div class=\"sk-serial\"><div class=\"sk-item\"><div class=\"sk-estimator sk-toggleable\"><input class=\"sk-toggleable__control sk-hidden--visually\" id=\"sk-estimator-id-3\" type=\"checkbox\" ><label for=\"sk-estimator-id-3\" class=\"sk-toggleable__label sk-toggleable__label-arrow\">LogisticRegression</label><div class=\"sk-toggleable__content\"><pre>LogisticRegression()</pre></div></div></div></div></div></div></div></div></div></div>"
            ]
          },
          "metadata": {},
          "execution_count": 19
        }
      ]
    },
    {
      "cell_type": "code",
      "source": [
        "y_pred = model.predict(X_test)\n",
        "print(classification_report(y_test, y_pred))"
      ],
      "metadata": {
        "colab": {
          "base_uri": "https://localhost:8080/"
        },
        "id": "5-bUfzuDv7Xa",
        "outputId": "cfb2fa0f-39ad-4e0f-f81a-c92190eab2bb"
      },
      "execution_count": null,
      "outputs": [
        {
          "output_type": "stream",
          "name": "stdout",
          "text": [
            "              precision    recall  f1-score   support\n",
            "\n",
            "           0       0.80      0.96      0.87    155245\n",
            "           1       0.55      0.17      0.27     45528\n",
            "\n",
            "    accuracy                           0.78    200773\n",
            "   macro avg       0.68      0.57      0.57    200773\n",
            "weighted avg       0.74      0.78      0.73    200773\n",
            "\n"
          ]
        }
      ]
    },
    {
      "cell_type": "code",
      "source": [
        "cm = confusion_matrix(y_test,y_pred)\n",
        "print(cm)\n",
        "cm = pd.crosstab(y_test, y_pred, rownames=['Classe réelle'], colnames=['Classe prédite'])\n",
        "cm"
      ],
      "metadata": {
        "colab": {
          "base_uri": "https://localhost:8080/",
          "height": 178
        },
        "id": "7jCGPcU2wF8e",
        "outputId": "4345743e-3554-4cd4-85bd-11dbb6d99ca3"
      },
      "execution_count": null,
      "outputs": [
        {
          "output_type": "stream",
          "name": "stdout",
          "text": [
            "[[148882   6363]\n",
            " [ 37595   7933]]\n"
          ]
        },
        {
          "output_type": "execute_result",
          "data": {
            "text/plain": [
              "Classe prédite       0     1\n",
              "Classe réelle               \n",
              "0               148882  6363\n",
              "1                37595  7933"
            ],
            "text/html": [
              "\n",
              "  <div id=\"df-8f2b1925-e3cb-4e3e-aa95-2ba44ef19a0a\" class=\"colab-df-container\">\n",
              "    <div>\n",
              "<style scoped>\n",
              "    .dataframe tbody tr th:only-of-type {\n",
              "        vertical-align: middle;\n",
              "    }\n",
              "\n",
              "    .dataframe tbody tr th {\n",
              "        vertical-align: top;\n",
              "    }\n",
              "\n",
              "    .dataframe thead th {\n",
              "        text-align: right;\n",
              "    }\n",
              "</style>\n",
              "<table border=\"1\" class=\"dataframe\">\n",
              "  <thead>\n",
              "    <tr style=\"text-align: right;\">\n",
              "      <th>Classe prédite</th>\n",
              "      <th>0</th>\n",
              "      <th>1</th>\n",
              "    </tr>\n",
              "    <tr>\n",
              "      <th>Classe réelle</th>\n",
              "      <th></th>\n",
              "      <th></th>\n",
              "    </tr>\n",
              "  </thead>\n",
              "  <tbody>\n",
              "    <tr>\n",
              "      <th>0</th>\n",
              "      <td>148882</td>\n",
              "      <td>6363</td>\n",
              "    </tr>\n",
              "    <tr>\n",
              "      <th>1</th>\n",
              "      <td>37595</td>\n",
              "      <td>7933</td>\n",
              "    </tr>\n",
              "  </tbody>\n",
              "</table>\n",
              "</div>\n",
              "    <div class=\"colab-df-buttons\">\n",
              "\n",
              "  <div class=\"colab-df-container\">\n",
              "    <button class=\"colab-df-convert\" onclick=\"convertToInteractive('df-8f2b1925-e3cb-4e3e-aa95-2ba44ef19a0a')\"\n",
              "            title=\"Convert this dataframe to an interactive table.\"\n",
              "            style=\"display:none;\">\n",
              "\n",
              "  <svg xmlns=\"http://www.w3.org/2000/svg\" height=\"24px\" viewBox=\"0 -960 960 960\">\n",
              "    <path d=\"M120-120v-720h720v720H120Zm60-500h600v-160H180v160Zm220 220h160v-160H400v160Zm0 220h160v-160H400v160ZM180-400h160v-160H180v160Zm440 0h160v-160H620v160ZM180-180h160v-160H180v160Zm440 0h160v-160H620v160Z\"/>\n",
              "  </svg>\n",
              "    </button>\n",
              "\n",
              "  <style>\n",
              "    .colab-df-container {\n",
              "      display:flex;\n",
              "      gap: 12px;\n",
              "    }\n",
              "\n",
              "    .colab-df-convert {\n",
              "      background-color: #E8F0FE;\n",
              "      border: none;\n",
              "      border-radius: 50%;\n",
              "      cursor: pointer;\n",
              "      display: none;\n",
              "      fill: #1967D2;\n",
              "      height: 32px;\n",
              "      padding: 0 0 0 0;\n",
              "      width: 32px;\n",
              "    }\n",
              "\n",
              "    .colab-df-convert:hover {\n",
              "      background-color: #E2EBFA;\n",
              "      box-shadow: 0px 1px 2px rgba(60, 64, 67, 0.3), 0px 1px 3px 1px rgba(60, 64, 67, 0.15);\n",
              "      fill: #174EA6;\n",
              "    }\n",
              "\n",
              "    .colab-df-buttons div {\n",
              "      margin-bottom: 4px;\n",
              "    }\n",
              "\n",
              "    [theme=dark] .colab-df-convert {\n",
              "      background-color: #3B4455;\n",
              "      fill: #D2E3FC;\n",
              "    }\n",
              "\n",
              "    [theme=dark] .colab-df-convert:hover {\n",
              "      background-color: #434B5C;\n",
              "      box-shadow: 0px 1px 3px 1px rgba(0, 0, 0, 0.15);\n",
              "      filter: drop-shadow(0px 1px 2px rgba(0, 0, 0, 0.3));\n",
              "      fill: #FFFFFF;\n",
              "    }\n",
              "  </style>\n",
              "\n",
              "    <script>\n",
              "      const buttonEl =\n",
              "        document.querySelector('#df-8f2b1925-e3cb-4e3e-aa95-2ba44ef19a0a button.colab-df-convert');\n",
              "      buttonEl.style.display =\n",
              "        google.colab.kernel.accessAllowed ? 'block' : 'none';\n",
              "\n",
              "      async function convertToInteractive(key) {\n",
              "        const element = document.querySelector('#df-8f2b1925-e3cb-4e3e-aa95-2ba44ef19a0a');\n",
              "        const dataTable =\n",
              "          await google.colab.kernel.invokeFunction('convertToInteractive',\n",
              "                                                    [key], {});\n",
              "        if (!dataTable) return;\n",
              "\n",
              "        const docLinkHtml = 'Like what you see? Visit the ' +\n",
              "          '<a target=\"_blank\" href=https://colab.research.google.com/notebooks/data_table.ipynb>data table notebook</a>'\n",
              "          + ' to learn more about interactive tables.';\n",
              "        element.innerHTML = '';\n",
              "        dataTable['output_type'] = 'display_data';\n",
              "        await google.colab.output.renderOutput(dataTable, element);\n",
              "        const docLink = document.createElement('div');\n",
              "        docLink.innerHTML = docLinkHtml;\n",
              "        element.appendChild(docLink);\n",
              "      }\n",
              "    </script>\n",
              "  </div>\n",
              "\n",
              "\n",
              "<div id=\"df-2553e354-64ec-4a86-b272-170a79656433\">\n",
              "  <button class=\"colab-df-quickchart\" onclick=\"quickchart('df-2553e354-64ec-4a86-b272-170a79656433')\"\n",
              "            title=\"Suggest charts.\"\n",
              "            style=\"display:none;\">\n",
              "\n",
              "<svg xmlns=\"http://www.w3.org/2000/svg\" height=\"24px\"viewBox=\"0 0 24 24\"\n",
              "     width=\"24px\">\n",
              "    <g>\n",
              "        <path d=\"M19 3H5c-1.1 0-2 .9-2 2v14c0 1.1.9 2 2 2h14c1.1 0 2-.9 2-2V5c0-1.1-.9-2-2-2zM9 17H7v-7h2v7zm4 0h-2V7h2v10zm4 0h-2v-4h2v4z\"/>\n",
              "    </g>\n",
              "</svg>\n",
              "  </button>\n",
              "\n",
              "<style>\n",
              "  .colab-df-quickchart {\n",
              "      --bg-color: #E8F0FE;\n",
              "      --fill-color: #1967D2;\n",
              "      --hover-bg-color: #E2EBFA;\n",
              "      --hover-fill-color: #174EA6;\n",
              "      --disabled-fill-color: #AAA;\n",
              "      --disabled-bg-color: #DDD;\n",
              "  }\n",
              "\n",
              "  [theme=dark] .colab-df-quickchart {\n",
              "      --bg-color: #3B4455;\n",
              "      --fill-color: #D2E3FC;\n",
              "      --hover-bg-color: #434B5C;\n",
              "      --hover-fill-color: #FFFFFF;\n",
              "      --disabled-bg-color: #3B4455;\n",
              "      --disabled-fill-color: #666;\n",
              "  }\n",
              "\n",
              "  .colab-df-quickchart {\n",
              "    background-color: var(--bg-color);\n",
              "    border: none;\n",
              "    border-radius: 50%;\n",
              "    cursor: pointer;\n",
              "    display: none;\n",
              "    fill: var(--fill-color);\n",
              "    height: 32px;\n",
              "    padding: 0;\n",
              "    width: 32px;\n",
              "  }\n",
              "\n",
              "  .colab-df-quickchart:hover {\n",
              "    background-color: var(--hover-bg-color);\n",
              "    box-shadow: 0 1px 2px rgba(60, 64, 67, 0.3), 0 1px 3px 1px rgba(60, 64, 67, 0.15);\n",
              "    fill: var(--button-hover-fill-color);\n",
              "  }\n",
              "\n",
              "  .colab-df-quickchart-complete:disabled,\n",
              "  .colab-df-quickchart-complete:disabled:hover {\n",
              "    background-color: var(--disabled-bg-color);\n",
              "    fill: var(--disabled-fill-color);\n",
              "    box-shadow: none;\n",
              "  }\n",
              "\n",
              "  .colab-df-spinner {\n",
              "    border: 2px solid var(--fill-color);\n",
              "    border-color: transparent;\n",
              "    border-bottom-color: var(--fill-color);\n",
              "    animation:\n",
              "      spin 1s steps(1) infinite;\n",
              "  }\n",
              "\n",
              "  @keyframes spin {\n",
              "    0% {\n",
              "      border-color: transparent;\n",
              "      border-bottom-color: var(--fill-color);\n",
              "      border-left-color: var(--fill-color);\n",
              "    }\n",
              "    20% {\n",
              "      border-color: transparent;\n",
              "      border-left-color: var(--fill-color);\n",
              "      border-top-color: var(--fill-color);\n",
              "    }\n",
              "    30% {\n",
              "      border-color: transparent;\n",
              "      border-left-color: var(--fill-color);\n",
              "      border-top-color: var(--fill-color);\n",
              "      border-right-color: var(--fill-color);\n",
              "    }\n",
              "    40% {\n",
              "      border-color: transparent;\n",
              "      border-right-color: var(--fill-color);\n",
              "      border-top-color: var(--fill-color);\n",
              "    }\n",
              "    60% {\n",
              "      border-color: transparent;\n",
              "      border-right-color: var(--fill-color);\n",
              "    }\n",
              "    80% {\n",
              "      border-color: transparent;\n",
              "      border-right-color: var(--fill-color);\n",
              "      border-bottom-color: var(--fill-color);\n",
              "    }\n",
              "    90% {\n",
              "      border-color: transparent;\n",
              "      border-bottom-color: var(--fill-color);\n",
              "    }\n",
              "  }\n",
              "</style>\n",
              "\n",
              "  <script>\n",
              "    async function quickchart(key) {\n",
              "      const quickchartButtonEl =\n",
              "        document.querySelector('#' + key + ' button');\n",
              "      quickchartButtonEl.disabled = true;  // To prevent multiple clicks.\n",
              "      quickchartButtonEl.classList.add('colab-df-spinner');\n",
              "      try {\n",
              "        const charts = await google.colab.kernel.invokeFunction(\n",
              "            'suggestCharts', [key], {});\n",
              "      } catch (error) {\n",
              "        console.error('Error during call to suggestCharts:', error);\n",
              "      }\n",
              "      quickchartButtonEl.classList.remove('colab-df-spinner');\n",
              "      quickchartButtonEl.classList.add('colab-df-quickchart-complete');\n",
              "    }\n",
              "    (() => {\n",
              "      let quickchartButtonEl =\n",
              "        document.querySelector('#df-2553e354-64ec-4a86-b272-170a79656433 button');\n",
              "      quickchartButtonEl.style.display =\n",
              "        google.colab.kernel.accessAllowed ? 'block' : 'none';\n",
              "    })();\n",
              "  </script>\n",
              "</div>\n",
              "    </div>\n",
              "  </div>\n"
            ]
          },
          "metadata": {},
          "execution_count": 21
        }
      ]
    },
    {
      "cell_type": "code",
      "source": [
        "## Entraîner et évaluer un modèle binary avec les variables d'origine (sans analyse factorielle)\n",
        "seed=42\n",
        "scaler = StandardScaler()\n",
        "X_scaled = scaler.fit_transform(X)\n",
        "\n",
        "X_train, X_test, y_train, y_test = train_test_split(X_scaled, y_binary,\n",
        "                                                      test_size=0.2,\n",
        "                                                      random_state=seed,\n",
        "                                                      stratify=y)"
      ],
      "metadata": {
        "id": "ldU1snerwVdO"
      },
      "execution_count": null,
      "outputs": []
    },
    {
      "cell_type": "code",
      "source": [
        "parametres = {\"penalty\": [\"l1\"], \"C\": [0.01], \"solver\": [\"liblinear\"]}\n",
        "base_clf = LogisticRegression()\n",
        "model = GridSearchCV(base_clf, param_grid=parametres, scoring='accuracy', cv=5, n_jobs=-1,\n",
        "                         verbose=0)\n",
        "\n",
        "model.fit(X_train, y_train)"
      ],
      "metadata": {
        "colab": {
          "base_uri": "https://localhost:8080/",
          "height": 118
        },
        "id": "OL-xKrgzwvtE",
        "outputId": "a567a8be-1d44-4ce7-c5a4-b65649a64fc4"
      },
      "execution_count": null,
      "outputs": [
        {
          "output_type": "execute_result",
          "data": {
            "text/plain": [
              "GridSearchCV(cv=5, estimator=LogisticRegression(), n_jobs=-1,\n",
              "             param_grid={'C': [0.01], 'penalty': ['l1'],\n",
              "                         'solver': ['liblinear']},\n",
              "             scoring='accuracy')"
            ],
            "text/html": [
              "<style>#sk-container-id-2 {color: black;background-color: white;}#sk-container-id-2 pre{padding: 0;}#sk-container-id-2 div.sk-toggleable {background-color: white;}#sk-container-id-2 label.sk-toggleable__label {cursor: pointer;display: block;width: 100%;margin-bottom: 0;padding: 0.3em;box-sizing: border-box;text-align: center;}#sk-container-id-2 label.sk-toggleable__label-arrow:before {content: \"▸\";float: left;margin-right: 0.25em;color: #696969;}#sk-container-id-2 label.sk-toggleable__label-arrow:hover:before {color: black;}#sk-container-id-2 div.sk-estimator:hover label.sk-toggleable__label-arrow:before {color: black;}#sk-container-id-2 div.sk-toggleable__content {max-height: 0;max-width: 0;overflow: hidden;text-align: left;background-color: #f0f8ff;}#sk-container-id-2 div.sk-toggleable__content pre {margin: 0.2em;color: black;border-radius: 0.25em;background-color: #f0f8ff;}#sk-container-id-2 input.sk-toggleable__control:checked~div.sk-toggleable__content {max-height: 200px;max-width: 100%;overflow: auto;}#sk-container-id-2 input.sk-toggleable__control:checked~label.sk-toggleable__label-arrow:before {content: \"▾\";}#sk-container-id-2 div.sk-estimator input.sk-toggleable__control:checked~label.sk-toggleable__label {background-color: #d4ebff;}#sk-container-id-2 div.sk-label input.sk-toggleable__control:checked~label.sk-toggleable__label {background-color: #d4ebff;}#sk-container-id-2 input.sk-hidden--visually {border: 0;clip: rect(1px 1px 1px 1px);clip: rect(1px, 1px, 1px, 1px);height: 1px;margin: -1px;overflow: hidden;padding: 0;position: absolute;width: 1px;}#sk-container-id-2 div.sk-estimator {font-family: monospace;background-color: #f0f8ff;border: 1px dotted black;border-radius: 0.25em;box-sizing: border-box;margin-bottom: 0.5em;}#sk-container-id-2 div.sk-estimator:hover {background-color: #d4ebff;}#sk-container-id-2 div.sk-parallel-item::after {content: \"\";width: 100%;border-bottom: 1px solid gray;flex-grow: 1;}#sk-container-id-2 div.sk-label:hover label.sk-toggleable__label {background-color: #d4ebff;}#sk-container-id-2 div.sk-serial::before {content: \"\";position: absolute;border-left: 1px solid gray;box-sizing: border-box;top: 0;bottom: 0;left: 50%;z-index: 0;}#sk-container-id-2 div.sk-serial {display: flex;flex-direction: column;align-items: center;background-color: white;padding-right: 0.2em;padding-left: 0.2em;position: relative;}#sk-container-id-2 div.sk-item {position: relative;z-index: 1;}#sk-container-id-2 div.sk-parallel {display: flex;align-items: stretch;justify-content: center;background-color: white;position: relative;}#sk-container-id-2 div.sk-item::before, #sk-container-id-2 div.sk-parallel-item::before {content: \"\";position: absolute;border-left: 1px solid gray;box-sizing: border-box;top: 0;bottom: 0;left: 50%;z-index: -1;}#sk-container-id-2 div.sk-parallel-item {display: flex;flex-direction: column;z-index: 1;position: relative;background-color: white;}#sk-container-id-2 div.sk-parallel-item:first-child::after {align-self: flex-end;width: 50%;}#sk-container-id-2 div.sk-parallel-item:last-child::after {align-self: flex-start;width: 50%;}#sk-container-id-2 div.sk-parallel-item:only-child::after {width: 0;}#sk-container-id-2 div.sk-dashed-wrapped {border: 1px dashed gray;margin: 0 0.4em 0.5em 0.4em;box-sizing: border-box;padding-bottom: 0.4em;background-color: white;}#sk-container-id-2 div.sk-label label {font-family: monospace;font-weight: bold;display: inline-block;line-height: 1.2em;}#sk-container-id-2 div.sk-label-container {text-align: center;}#sk-container-id-2 div.sk-container {/* jupyter's `normalize.less` sets `[hidden] { display: none; }` but bootstrap.min.css set `[hidden] { display: none !important; }` so we also need the `!important` here to be able to override the default hidden behavior on the sphinx rendered scikit-learn.org. See: https://github.com/scikit-learn/scikit-learn/issues/21755 */display: inline-block !important;position: relative;}#sk-container-id-2 div.sk-text-repr-fallback {display: none;}</style><div id=\"sk-container-id-2\" class=\"sk-top-container\"><div class=\"sk-text-repr-fallback\"><pre>GridSearchCV(cv=5, estimator=LogisticRegression(), n_jobs=-1,\n",
              "             param_grid={&#x27;C&#x27;: [0.01], &#x27;penalty&#x27;: [&#x27;l1&#x27;],\n",
              "                         &#x27;solver&#x27;: [&#x27;liblinear&#x27;]},\n",
              "             scoring=&#x27;accuracy&#x27;)</pre><b>In a Jupyter environment, please rerun this cell to show the HTML representation or trust the notebook. <br />On GitHub, the HTML representation is unable to render, please try loading this page with nbviewer.org.</b></div><div class=\"sk-container\" hidden><div class=\"sk-item sk-dashed-wrapped\"><div class=\"sk-label-container\"><div class=\"sk-label sk-toggleable\"><input class=\"sk-toggleable__control sk-hidden--visually\" id=\"sk-estimator-id-4\" type=\"checkbox\" ><label for=\"sk-estimator-id-4\" class=\"sk-toggleable__label sk-toggleable__label-arrow\">GridSearchCV</label><div class=\"sk-toggleable__content\"><pre>GridSearchCV(cv=5, estimator=LogisticRegression(), n_jobs=-1,\n",
              "             param_grid={&#x27;C&#x27;: [0.01], &#x27;penalty&#x27;: [&#x27;l1&#x27;],\n",
              "                         &#x27;solver&#x27;: [&#x27;liblinear&#x27;]},\n",
              "             scoring=&#x27;accuracy&#x27;)</pre></div></div></div><div class=\"sk-parallel\"><div class=\"sk-parallel-item\"><div class=\"sk-item\"><div class=\"sk-label-container\"><div class=\"sk-label sk-toggleable\"><input class=\"sk-toggleable__control sk-hidden--visually\" id=\"sk-estimator-id-5\" type=\"checkbox\" ><label for=\"sk-estimator-id-5\" class=\"sk-toggleable__label sk-toggleable__label-arrow\">estimator: LogisticRegression</label><div class=\"sk-toggleable__content\"><pre>LogisticRegression()</pre></div></div></div><div class=\"sk-serial\"><div class=\"sk-item\"><div class=\"sk-estimator sk-toggleable\"><input class=\"sk-toggleable__control sk-hidden--visually\" id=\"sk-estimator-id-6\" type=\"checkbox\" ><label for=\"sk-estimator-id-6\" class=\"sk-toggleable__label sk-toggleable__label-arrow\">LogisticRegression</label><div class=\"sk-toggleable__content\"><pre>LogisticRegression()</pre></div></div></div></div></div></div></div></div></div></div>"
            ]
          },
          "metadata": {},
          "execution_count": 23
        }
      ]
    },
    {
      "cell_type": "code",
      "source": [
        "y_pred = model.predict(X_test)\n",
        "print(classification_report(y_test, y_pred))"
      ],
      "metadata": {
        "colab": {
          "base_uri": "https://localhost:8080/"
        },
        "id": "O0_ICFqswzVU",
        "outputId": "83321307-7d71-479a-ae5c-5687a579402a"
      },
      "execution_count": null,
      "outputs": [
        {
          "output_type": "stream",
          "name": "stdout",
          "text": [
            "              precision    recall  f1-score   support\n",
            "\n",
            "           0       0.80      0.95      0.87    155245\n",
            "           1       0.58      0.21      0.31     45528\n",
            "\n",
            "    accuracy                           0.79    200773\n",
            "   macro avg       0.69      0.58      0.59    200773\n",
            "weighted avg       0.75      0.79      0.74    200773\n",
            "\n"
          ]
        }
      ]
    },
    {
      "cell_type": "code",
      "source": [
        "cm = confusion_matrix(y_test,y_pred)\n",
        "print(cm)\n",
        "cm = pd.crosstab(y_test, y_pred, rownames=['Classe réelle'], colnames=['Classe prédite'])\n",
        "cm"
      ],
      "metadata": {
        "colab": {
          "base_uri": "https://localhost:8080/",
          "height": 178
        },
        "id": "4BEOLGx9zEpV",
        "outputId": "357d66cb-e492-41ef-ce99-130e6c1c014b"
      },
      "execution_count": null,
      "outputs": [
        {
          "output_type": "stream",
          "name": "stdout",
          "text": [
            "[[148226   7019]\n",
            " [ 35991   9537]]\n"
          ]
        },
        {
          "output_type": "execute_result",
          "data": {
            "text/plain": [
              "Classe prédite       0     1\n",
              "Classe réelle               \n",
              "0               148226  7019\n",
              "1                35991  9537"
            ],
            "text/html": [
              "\n",
              "  <div id=\"df-b5b5df8b-3bd4-4ac4-9dad-d2e1c24e12a8\" class=\"colab-df-container\">\n",
              "    <div>\n",
              "<style scoped>\n",
              "    .dataframe tbody tr th:only-of-type {\n",
              "        vertical-align: middle;\n",
              "    }\n",
              "\n",
              "    .dataframe tbody tr th {\n",
              "        vertical-align: top;\n",
              "    }\n",
              "\n",
              "    .dataframe thead th {\n",
              "        text-align: right;\n",
              "    }\n",
              "</style>\n",
              "<table border=\"1\" class=\"dataframe\">\n",
              "  <thead>\n",
              "    <tr style=\"text-align: right;\">\n",
              "      <th>Classe prédite</th>\n",
              "      <th>0</th>\n",
              "      <th>1</th>\n",
              "    </tr>\n",
              "    <tr>\n",
              "      <th>Classe réelle</th>\n",
              "      <th></th>\n",
              "      <th></th>\n",
              "    </tr>\n",
              "  </thead>\n",
              "  <tbody>\n",
              "    <tr>\n",
              "      <th>0</th>\n",
              "      <td>148226</td>\n",
              "      <td>7019</td>\n",
              "    </tr>\n",
              "    <tr>\n",
              "      <th>1</th>\n",
              "      <td>35991</td>\n",
              "      <td>9537</td>\n",
              "    </tr>\n",
              "  </tbody>\n",
              "</table>\n",
              "</div>\n",
              "    <div class=\"colab-df-buttons\">\n",
              "\n",
              "  <div class=\"colab-df-container\">\n",
              "    <button class=\"colab-df-convert\" onclick=\"convertToInteractive('df-b5b5df8b-3bd4-4ac4-9dad-d2e1c24e12a8')\"\n",
              "            title=\"Convert this dataframe to an interactive table.\"\n",
              "            style=\"display:none;\">\n",
              "\n",
              "  <svg xmlns=\"http://www.w3.org/2000/svg\" height=\"24px\" viewBox=\"0 -960 960 960\">\n",
              "    <path d=\"M120-120v-720h720v720H120Zm60-500h600v-160H180v160Zm220 220h160v-160H400v160Zm0 220h160v-160H400v160ZM180-400h160v-160H180v160Zm440 0h160v-160H620v160ZM180-180h160v-160H180v160Zm440 0h160v-160H620v160Z\"/>\n",
              "  </svg>\n",
              "    </button>\n",
              "\n",
              "  <style>\n",
              "    .colab-df-container {\n",
              "      display:flex;\n",
              "      gap: 12px;\n",
              "    }\n",
              "\n",
              "    .colab-df-convert {\n",
              "      background-color: #E8F0FE;\n",
              "      border: none;\n",
              "      border-radius: 50%;\n",
              "      cursor: pointer;\n",
              "      display: none;\n",
              "      fill: #1967D2;\n",
              "      height: 32px;\n",
              "      padding: 0 0 0 0;\n",
              "      width: 32px;\n",
              "    }\n",
              "\n",
              "    .colab-df-convert:hover {\n",
              "      background-color: #E2EBFA;\n",
              "      box-shadow: 0px 1px 2px rgba(60, 64, 67, 0.3), 0px 1px 3px 1px rgba(60, 64, 67, 0.15);\n",
              "      fill: #174EA6;\n",
              "    }\n",
              "\n",
              "    .colab-df-buttons div {\n",
              "      margin-bottom: 4px;\n",
              "    }\n",
              "\n",
              "    [theme=dark] .colab-df-convert {\n",
              "      background-color: #3B4455;\n",
              "      fill: #D2E3FC;\n",
              "    }\n",
              "\n",
              "    [theme=dark] .colab-df-convert:hover {\n",
              "      background-color: #434B5C;\n",
              "      box-shadow: 0px 1px 3px 1px rgba(0, 0, 0, 0.15);\n",
              "      filter: drop-shadow(0px 1px 2px rgba(0, 0, 0, 0.3));\n",
              "      fill: #FFFFFF;\n",
              "    }\n",
              "  </style>\n",
              "\n",
              "    <script>\n",
              "      const buttonEl =\n",
              "        document.querySelector('#df-b5b5df8b-3bd4-4ac4-9dad-d2e1c24e12a8 button.colab-df-convert');\n",
              "      buttonEl.style.display =\n",
              "        google.colab.kernel.accessAllowed ? 'block' : 'none';\n",
              "\n",
              "      async function convertToInteractive(key) {\n",
              "        const element = document.querySelector('#df-b5b5df8b-3bd4-4ac4-9dad-d2e1c24e12a8');\n",
              "        const dataTable =\n",
              "          await google.colab.kernel.invokeFunction('convertToInteractive',\n",
              "                                                    [key], {});\n",
              "        if (!dataTable) return;\n",
              "\n",
              "        const docLinkHtml = 'Like what you see? Visit the ' +\n",
              "          '<a target=\"_blank\" href=https://colab.research.google.com/notebooks/data_table.ipynb>data table notebook</a>'\n",
              "          + ' to learn more about interactive tables.';\n",
              "        element.innerHTML = '';\n",
              "        dataTable['output_type'] = 'display_data';\n",
              "        await google.colab.output.renderOutput(dataTable, element);\n",
              "        const docLink = document.createElement('div');\n",
              "        docLink.innerHTML = docLinkHtml;\n",
              "        element.appendChild(docLink);\n",
              "      }\n",
              "    </script>\n",
              "  </div>\n",
              "\n",
              "\n",
              "<div id=\"df-bbd0befe-14a0-4962-8ca7-eb067552a348\">\n",
              "  <button class=\"colab-df-quickchart\" onclick=\"quickchart('df-bbd0befe-14a0-4962-8ca7-eb067552a348')\"\n",
              "            title=\"Suggest charts.\"\n",
              "            style=\"display:none;\">\n",
              "\n",
              "<svg xmlns=\"http://www.w3.org/2000/svg\" height=\"24px\"viewBox=\"0 0 24 24\"\n",
              "     width=\"24px\">\n",
              "    <g>\n",
              "        <path d=\"M19 3H5c-1.1 0-2 .9-2 2v14c0 1.1.9 2 2 2h14c1.1 0 2-.9 2-2V5c0-1.1-.9-2-2-2zM9 17H7v-7h2v7zm4 0h-2V7h2v10zm4 0h-2v-4h2v4z\"/>\n",
              "    </g>\n",
              "</svg>\n",
              "  </button>\n",
              "\n",
              "<style>\n",
              "  .colab-df-quickchart {\n",
              "      --bg-color: #E8F0FE;\n",
              "      --fill-color: #1967D2;\n",
              "      --hover-bg-color: #E2EBFA;\n",
              "      --hover-fill-color: #174EA6;\n",
              "      --disabled-fill-color: #AAA;\n",
              "      --disabled-bg-color: #DDD;\n",
              "  }\n",
              "\n",
              "  [theme=dark] .colab-df-quickchart {\n",
              "      --bg-color: #3B4455;\n",
              "      --fill-color: #D2E3FC;\n",
              "      --hover-bg-color: #434B5C;\n",
              "      --hover-fill-color: #FFFFFF;\n",
              "      --disabled-bg-color: #3B4455;\n",
              "      --disabled-fill-color: #666;\n",
              "  }\n",
              "\n",
              "  .colab-df-quickchart {\n",
              "    background-color: var(--bg-color);\n",
              "    border: none;\n",
              "    border-radius: 50%;\n",
              "    cursor: pointer;\n",
              "    display: none;\n",
              "    fill: var(--fill-color);\n",
              "    height: 32px;\n",
              "    padding: 0;\n",
              "    width: 32px;\n",
              "  }\n",
              "\n",
              "  .colab-df-quickchart:hover {\n",
              "    background-color: var(--hover-bg-color);\n",
              "    box-shadow: 0 1px 2px rgba(60, 64, 67, 0.3), 0 1px 3px 1px rgba(60, 64, 67, 0.15);\n",
              "    fill: var(--button-hover-fill-color);\n",
              "  }\n",
              "\n",
              "  .colab-df-quickchart-complete:disabled,\n",
              "  .colab-df-quickchart-complete:disabled:hover {\n",
              "    background-color: var(--disabled-bg-color);\n",
              "    fill: var(--disabled-fill-color);\n",
              "    box-shadow: none;\n",
              "  }\n",
              "\n",
              "  .colab-df-spinner {\n",
              "    border: 2px solid var(--fill-color);\n",
              "    border-color: transparent;\n",
              "    border-bottom-color: var(--fill-color);\n",
              "    animation:\n",
              "      spin 1s steps(1) infinite;\n",
              "  }\n",
              "\n",
              "  @keyframes spin {\n",
              "    0% {\n",
              "      border-color: transparent;\n",
              "      border-bottom-color: var(--fill-color);\n",
              "      border-left-color: var(--fill-color);\n",
              "    }\n",
              "    20% {\n",
              "      border-color: transparent;\n",
              "      border-left-color: var(--fill-color);\n",
              "      border-top-color: var(--fill-color);\n",
              "    }\n",
              "    30% {\n",
              "      border-color: transparent;\n",
              "      border-left-color: var(--fill-color);\n",
              "      border-top-color: var(--fill-color);\n",
              "      border-right-color: var(--fill-color);\n",
              "    }\n",
              "    40% {\n",
              "      border-color: transparent;\n",
              "      border-right-color: var(--fill-color);\n",
              "      border-top-color: var(--fill-color);\n",
              "    }\n",
              "    60% {\n",
              "      border-color: transparent;\n",
              "      border-right-color: var(--fill-color);\n",
              "    }\n",
              "    80% {\n",
              "      border-color: transparent;\n",
              "      border-right-color: var(--fill-color);\n",
              "      border-bottom-color: var(--fill-color);\n",
              "    }\n",
              "    90% {\n",
              "      border-color: transparent;\n",
              "      border-bottom-color: var(--fill-color);\n",
              "    }\n",
              "  }\n",
              "</style>\n",
              "\n",
              "  <script>\n",
              "    async function quickchart(key) {\n",
              "      const quickchartButtonEl =\n",
              "        document.querySelector('#' + key + ' button');\n",
              "      quickchartButtonEl.disabled = true;  // To prevent multiple clicks.\n",
              "      quickchartButtonEl.classList.add('colab-df-spinner');\n",
              "      try {\n",
              "        const charts = await google.colab.kernel.invokeFunction(\n",
              "            'suggestCharts', [key], {});\n",
              "      } catch (error) {\n",
              "        console.error('Error during call to suggestCharts:', error);\n",
              "      }\n",
              "      quickchartButtonEl.classList.remove('colab-df-spinner');\n",
              "      quickchartButtonEl.classList.add('colab-df-quickchart-complete');\n",
              "    }\n",
              "    (() => {\n",
              "      let quickchartButtonEl =\n",
              "        document.querySelector('#df-bbd0befe-14a0-4962-8ca7-eb067552a348 button');\n",
              "      quickchartButtonEl.style.display =\n",
              "        google.colab.kernel.accessAllowed ? 'block' : 'none';\n",
              "    })();\n",
              "  </script>\n",
              "</div>\n",
              "    </div>\n",
              "  </div>\n"
            ]
          },
          "metadata": {},
          "execution_count": 25
        }
      ]
    },
    {
      "cell_type": "code",
      "execution_count": null,
      "metadata": {
        "id": "g8Bha5lUP-Ih"
      },
      "outputs": [],
      "source": [
        "def train(X, y, grid_params, seed):\n",
        "\n",
        "  scaler = StandardScaler()\n",
        "  X_scaled = scaler.fit_transform(X)\n",
        "\n",
        "  X_train, X_test, y_train, y_test = train_test_split(X_scaled, y,\n",
        "                                                      test_size=0.2,\n",
        "                                                      random_state=seed,\n",
        "                                                      stratify=y)\n",
        "\n",
        "  # The models dict has same keys as grid_params\n",
        "  # pointing to the grid search of each classifier\n",
        "  models = {\n",
        "      #\"SGD\": SGDClassifier(),\n",
        "      \"Logistic Regression\": LogisticRegression()\n",
        "      #\"Random Forest\": RandomForestClassifier(),\n",
        "      #\"AdaBoost\": AdaBoostClassifier(),\n",
        "      #\"GradientBoost\": GradientBoostingClassifier()\n",
        "  }\n",
        "\n",
        "  # store best estimators\n",
        "  best_estimators = dict.fromkeys(models.keys())\n",
        "\n",
        "  for model_name in models:\n",
        "    base_clf = models[model_name]\n",
        "    params = grid_params[model_name]\n",
        "\n",
        "    print(\"[INFO] Performing Grid-Search CV ---- {}\".format(model_name))\n",
        "    model = GridSearchCV(base_clf, params, scoring='accuracy', cv=5, n_jobs=-1,\n",
        "                         verbose=0)\n",
        "\n",
        "    model.fit(X_train, y_train)\n",
        "    best_estimators[model_name] = model.best_estimator_\n",
        "\n",
        "  return best_estimators, X_test, y_test"
      ]
    },
    {
      "cell_type": "code",
      "execution_count": null,
      "metadata": {
        "id": "3hpnTHqzQNmf"
      },
      "outputs": [],
      "source": [
        "def evaluate_multiclass(models, X_test, y_test):\n",
        "  results = pd.DataFrame(columns=[\"Overall Accuracy\"], index=models.keys())\n",
        "\n",
        "  for model_name, model in models.items():\n",
        "    n_samples = len(y_test)\n",
        "    y_pred = model.predict(X_test)\n",
        "\n",
        "    overall_accuracy = np.sum(y_pred == y_test) / n_samples\n",
        "    results.loc[model_name, :] = overall_accuracy\n",
        "\n",
        "  return results"
      ]
    },
    {
      "cell_type": "code",
      "execution_count": null,
      "metadata": {
        "id": "JM7xHVh7QTZ6"
      },
      "outputs": [],
      "source": [
        "def select_multiclass_model(models, X_test, y_test):\n",
        "  best_overall_accuracy = -1\n",
        "  best_model = \"\"\n",
        "  n_samples = len(y_test)\n",
        "\n",
        "  for model_name, model in models.items():\n",
        "    y_pred = model.predict(X_test)\n",
        "\n",
        "    overall_accuracy = np.sum(y_pred == y_test) / n_samples\n",
        "\n",
        "    if overall_accuracy > best_overall_accuracy:\n",
        "      best_overall_accuracy = overall_accuracy\n",
        "      best_model = model_name\n",
        "\n",
        "  print(\"{}\\nOverall accuracy = {:.4f}\".format(best_model, best_overall_accuracy))\n",
        "  return models[best_model]"
      ]
    },
    {
      "cell_type": "code",
      "execution_count": null,
      "metadata": {
        "id": "-uBMY9rAQVFK"
      },
      "outputs": [],
      "source": [
        "grid_params_multiclass = {\n",
        "   # \"SGD\": {\n",
        "   #     \"penalty\": [\"l1\", \"l2\", \"elasticnet\"],\n",
        "   #     \"alpha\": np.linspace(1e-5, 1e-3, 5),\n",
        "   #     \"learning_rate\": [\"optimal\", \"invscaling\", \"adaptive\"],\n",
        "   #     \"eta0\": np.linspace(1e-4, 1e-1, 5)\n",
        "   # },\n",
        "   #\"Logistic Regression\": {\n",
        "   #     \"penalty\": [\"l1\", \"l2\"],\n",
        "   #     \"C\": [1, 2, 4, 5],\n",
        "   #     \"solver\": [\"liblinear\"]\n",
        "   # }\n",
        "       \"Logistic Regression\": {\n",
        "        \"penalty\": [\"l1\"],\n",
        "        \"C\": [0.01],\n",
        "        \"solver\": [\"liblinear\"]\n",
        "    }\n",
        "    #\"Random Forest\": {\n",
        "    #    \"criterion\": [\"gini\", \"entropy\"],\n",
        "    #    \"max_depth\": np.linspace(3, 12, 4, dtype=np.int64),\n",
        "    #    \"min_samples_split\": np.linspace(0.1, 0.5, 6),\n",
        "    #    \"min_samples_leaf\": np.linspace(0.1, 0.5, 6),\n",
        "    #    \"max_features\":[\"log2\",\"sqrt\"]\n",
        "    #}\n",
        "    #\"AdaBoost\": {\n",
        "     #   \"base_estimator\": [DecisionTreeClassifier(max_depth=1),\n",
        "     #                      DecisionTreeClassifier(max_depth=2),\n",
        "      #                     DecisionTreeClassifier(max_depth=3)],\n",
        "      #  \"learning_rate\": [0.01, 0.025, 0.05, 0.075, 0.1],\n",
        "      #  \"n_estimators\": np.linspace(20, 80, 4, dtype=np.int64),\n",
        "   # }\n",
        "    #\"GradientBoost\": {\n",
        "    #    \"loss\":[\"deviance\"],\n",
        "    #    \"learning_rate\": [0.01, 0.025, 0.05, 0.075],\n",
        "    #    \"min_samples_split\": np.linspace(0.1, 0.5, 5),\n",
        "    #    \"min_samples_leaf\": np.linspace(0.1, 0.5, 5),\n",
        "    #    \"max_depth\":[3, 5, 8],\n",
        "    #    \"max_features\":[\"log2\",\"sqrt\"],\n",
        "    #    \"criterion\": [\"friedman_mse\"],\n",
        "    #   \"subsample\":[0.5, 0.618, 0.85],\n",
        "    #    \"n_estimators\":[5, 10, 15]\n",
        "   # }\n",
        "}"
      ]
    },
    {
      "cell_type": "markdown",
      "metadata": {
        "id": "n6mCbDalQeE3"
      },
      "source": [
        "# Entrainer le modelle"
      ]
    },
    {
      "cell_type": "code",
      "execution_count": null,
      "metadata": {
        "colab": {
          "base_uri": "https://localhost:8080/",
          "height": 98
        },
        "id": "j8DfH2pXQjED",
        "outputId": "fb52bfb1-5d05-4bef-c15e-84cfa06512ff"
      },
      "outputs": [
        {
          "name": "stdout",
          "output_type": "stream",
          "text": [
            "[INFO] Performing Grid-Search CV ---- Logistic Regression\n"
          ]
        },
        {
          "data": {
            "text/html": [
              "\n",
              "  <div id=\"df-56cc7499-e6d9-40ab-8704-e6f034a63b84\" class=\"colab-df-container\">\n",
              "    <div>\n",
              "<style scoped>\n",
              "    .dataframe tbody tr th:only-of-type {\n",
              "        vertical-align: middle;\n",
              "    }\n",
              "\n",
              "    .dataframe tbody tr th {\n",
              "        vertical-align: top;\n",
              "    }\n",
              "\n",
              "    .dataframe thead th {\n",
              "        text-align: right;\n",
              "    }\n",
              "</style>\n",
              "<table border=\"1\" class=\"dataframe\">\n",
              "  <thead>\n",
              "    <tr style=\"text-align: right;\">\n",
              "      <th></th>\n",
              "      <th>Overall Accuracy</th>\n",
              "    </tr>\n",
              "  </thead>\n",
              "  <tbody>\n",
              "    <tr>\n",
              "      <th>Logistic Regression</th>\n",
              "      <td>0.565788</td>\n",
              "    </tr>\n",
              "  </tbody>\n",
              "</table>\n",
              "</div>\n",
              "    <div class=\"colab-df-buttons\">\n",
              "\n",
              "  <div class=\"colab-df-container\">\n",
              "    <button class=\"colab-df-convert\" onclick=\"convertToInteractive('df-56cc7499-e6d9-40ab-8704-e6f034a63b84')\"\n",
              "            title=\"Convert this dataframe to an interactive table.\"\n",
              "            style=\"display:none;\">\n",
              "\n",
              "  <svg xmlns=\"http://www.w3.org/2000/svg\" height=\"24px\" viewBox=\"0 -960 960 960\">\n",
              "    <path d=\"M120-120v-720h720v720H120Zm60-500h600v-160H180v160Zm220 220h160v-160H400v160Zm0 220h160v-160H400v160ZM180-400h160v-160H180v160Zm440 0h160v-160H620v160ZM180-180h160v-160H180v160Zm440 0h160v-160H620v160Z\"/>\n",
              "  </svg>\n",
              "    </button>\n",
              "\n",
              "  <style>\n",
              "    .colab-df-container {\n",
              "      display:flex;\n",
              "      gap: 12px;\n",
              "    }\n",
              "\n",
              "    .colab-df-convert {\n",
              "      background-color: #E8F0FE;\n",
              "      border: none;\n",
              "      border-radius: 50%;\n",
              "      cursor: pointer;\n",
              "      display: none;\n",
              "      fill: #1967D2;\n",
              "      height: 32px;\n",
              "      padding: 0 0 0 0;\n",
              "      width: 32px;\n",
              "    }\n",
              "\n",
              "    .colab-df-convert:hover {\n",
              "      background-color: #E2EBFA;\n",
              "      box-shadow: 0px 1px 2px rgba(60, 64, 67, 0.3), 0px 1px 3px 1px rgba(60, 64, 67, 0.15);\n",
              "      fill: #174EA6;\n",
              "    }\n",
              "\n",
              "    .colab-df-buttons div {\n",
              "      margin-bottom: 4px;\n",
              "    }\n",
              "\n",
              "    [theme=dark] .colab-df-convert {\n",
              "      background-color: #3B4455;\n",
              "      fill: #D2E3FC;\n",
              "    }\n",
              "\n",
              "    [theme=dark] .colab-df-convert:hover {\n",
              "      background-color: #434B5C;\n",
              "      box-shadow: 0px 1px 3px 1px rgba(0, 0, 0, 0.15);\n",
              "      filter: drop-shadow(0px 1px 2px rgba(0, 0, 0, 0.3));\n",
              "      fill: #FFFFFF;\n",
              "    }\n",
              "  </style>\n",
              "\n",
              "    <script>\n",
              "      const buttonEl =\n",
              "        document.querySelector('#df-56cc7499-e6d9-40ab-8704-e6f034a63b84 button.colab-df-convert');\n",
              "      buttonEl.style.display =\n",
              "        google.colab.kernel.accessAllowed ? 'block' : 'none';\n",
              "\n",
              "      async function convertToInteractive(key) {\n",
              "        const element = document.querySelector('#df-56cc7499-e6d9-40ab-8704-e6f034a63b84');\n",
              "        const dataTable =\n",
              "          await google.colab.kernel.invokeFunction('convertToInteractive',\n",
              "                                                    [key], {});\n",
              "        if (!dataTable) return;\n",
              "\n",
              "        const docLinkHtml = 'Like what you see? Visit the ' +\n",
              "          '<a target=\"_blank\" href=https://colab.research.google.com/notebooks/data_table.ipynb>data table notebook</a>'\n",
              "          + ' to learn more about interactive tables.';\n",
              "        element.innerHTML = '';\n",
              "        dataTable['output_type'] = 'display_data';\n",
              "        await google.colab.output.renderOutput(dataTable, element);\n",
              "        const docLink = document.createElement('div');\n",
              "        docLink.innerHTML = docLinkHtml;\n",
              "        element.appendChild(docLink);\n",
              "      }\n",
              "    </script>\n",
              "  </div>\n",
              "\n",
              "    </div>\n",
              "  </div>\n"
            ],
            "text/plain": [
              "                    Overall Accuracy\n",
              "Logistic Regression         0.565788"
            ]
          },
          "execution_count": 23,
          "metadata": {},
          "output_type": "execute_result"
        }
      ],
      "source": [
        "## Entraîner et évaluer un modèle multiclass avec les variables issue de l'analyse factorielle (latent)\n",
        "seed = 42\n",
        "estimators_multiclass_latent, X_test_latent, y_test_multiclass = train(X_latent, y_multiclass,\n",
        "                                                                       grid_params_multiclass, seed)\n",
        "\n",
        "evaluate_multiclass(estimators_multiclass_latent, X_test_latent, y_test_multiclass)"
      ]
    },
    {
      "cell_type": "code",
      "execution_count": null,
      "metadata": {
        "colab": {
          "base_uri": "https://localhost:8080/",
          "height": 331
        },
        "id": "vkP50BfugvSz",
        "outputId": "1afc94e2-0511-4a41-ec85-266fc03fb581"
      },
      "outputs": [
        {
          "ename": "TypeError",
          "evalue": "ignored",
          "output_type": "error",
          "traceback": [
            "\u001b[0;31m---------------------------------------------------------------------------\u001b[0m",
            "\u001b[0;31mTypeError\u001b[0m                                 Traceback (most recent call last)",
            "\u001b[0;32m<ipython-input-40-c4bf4e345720>\u001b[0m in \u001b[0;36m<cell line: 18>\u001b[0;34m()\u001b[0m\n\u001b[1;32m     16\u001b[0m   \u001b[0;32mreturn\u001b[0m \u001b[0mprint\u001b[0m\u001b[0;34m(\u001b[0m\u001b[0mC\u001b[0m\u001b[0;34m)\u001b[0m\u001b[0;34m\u001b[0m\u001b[0;34m\u001b[0m\u001b[0m\n\u001b[1;32m     17\u001b[0m \u001b[0;34m\u001b[0m\u001b[0m\n\u001b[0;32m---> 18\u001b[0;31m \u001b[0mclassifition\u001b[0m \u001b[0;34m=\u001b[0m \u001b[0mclassification_rep\u001b[0m\u001b[0;34m(\u001b[0m\u001b[0mestimators_multiclass_latent\u001b[0m\u001b[0;34m,\u001b[0m \u001b[0mX_test_latent\u001b[0m\u001b[0;34m,\u001b[0m \u001b[0my_test_multiclass\u001b[0m\u001b[0;34m)\u001b[0m\u001b[0;34m\u001b[0m\u001b[0;34m\u001b[0m\u001b[0m\n\u001b[0m",
            "\u001b[0;32m<ipython-input-40-c4bf4e345720>\u001b[0m in \u001b[0;36mclassification_rep\u001b[0;34m(models, X_test, y_test)\u001b[0m\n\u001b[1;32m      6\u001b[0m   \u001b[0;32mfor\u001b[0m \u001b[0mmodel_name\u001b[0m\u001b[0;34m,\u001b[0m \u001b[0mmodel\u001b[0m \u001b[0;32min\u001b[0m \u001b[0mmodels\u001b[0m\u001b[0;34m.\u001b[0m\u001b[0mitems\u001b[0m\u001b[0;34m(\u001b[0m\u001b[0;34m)\u001b[0m\u001b[0;34m:\u001b[0m\u001b[0;34m\u001b[0m\u001b[0;34m\u001b[0m\u001b[0m\n\u001b[1;32m      7\u001b[0m     \u001b[0my_pred\u001b[0m \u001b[0;34m=\u001b[0m \u001b[0mmodel\u001b[0m\u001b[0;34m.\u001b[0m\u001b[0mpredict\u001b[0m\u001b[0;34m(\u001b[0m\u001b[0mX_test\u001b[0m\u001b[0;34m)\u001b[0m\u001b[0;34m\u001b[0m\u001b[0;34m\u001b[0m\u001b[0m\n\u001b[0;32m----> 8\u001b[0;31m     \u001b[0mC\u001b[0m \u001b[0;34m=\u001b[0m \u001b[0mclassification_report\u001b[0m\u001b[0;34m(\u001b[0m\u001b[0my_test\u001b[0m\u001b[0;34m,\u001b[0m \u001b[0my_pred\u001b[0m\u001b[0;34m)\u001b[0m\u001b[0;34m\u001b[0m\u001b[0;34m\u001b[0m\u001b[0m\n\u001b[0m\u001b[1;32m      9\u001b[0m     \u001b[0moverall_accuracy\u001b[0m \u001b[0;34m=\u001b[0m \u001b[0mnp\u001b[0m\u001b[0;34m.\u001b[0m\u001b[0msum\u001b[0m\u001b[0;34m(\u001b[0m\u001b[0my_pred\u001b[0m \u001b[0;34m==\u001b[0m \u001b[0my_test\u001b[0m\u001b[0;34m)\u001b[0m \u001b[0;34m/\u001b[0m \u001b[0mn_samples\u001b[0m\u001b[0;34m\u001b[0m\u001b[0;34m\u001b[0m\u001b[0m\n\u001b[1;32m     10\u001b[0m \u001b[0;34m\u001b[0m\u001b[0m\n",
            "\u001b[0;31mTypeError\u001b[0m: classification_report() missing 1 required positional argument: 'y_test'"
          ]
        }
      ],
      "source": [
        "def classification_rep(models, X_test, y_test):\n",
        "  best_overall_accuracy = -1\n",
        "  best_model = \"\"\n",
        "  n_samples = len(y_test)\n",
        "\n",
        "  for model_name, model in models.items():\n",
        "    y_pred = model.predict(X_test)\n",
        "    C = classification_report(y_test, y_pred)\n",
        "    overall_accuracy = np.sum(y_pred == y_test) / n_samples\n",
        "\n",
        "    if overall_accuracy > best_overall_accuracy:\n",
        "      best_overall_accuracy = overall_accuracy\n",
        "      best_model = model_name\n",
        "\n",
        "  #print(\"{}\\nOverall accuracy = {:.4f}\".format(best_model, best_overall_accuracy))\n",
        "  return print(C)\n",
        "\n",
        "classifition = classification_rep(estimators_multiclass_latent, X_test_latent, y_test_multiclass)"
      ]
    },
    {
      "cell_type": "code",
      "execution_count": null,
      "metadata": {
        "colab": {
          "base_uri": "https://localhost:8080/",
          "height": 210
        },
        "id": "l7IAVQLPxR4R",
        "outputId": "60e9aa30-ab66-4bee-b4f9-d26471ae09ab"
      },
      "outputs": [
        {
          "ename": "TypeError",
          "evalue": "ignored",
          "output_type": "error",
          "traceback": [
            "\u001b[0;31m---------------------------------------------------------------------------\u001b[0m",
            "\u001b[0;31mTypeError\u001b[0m                                 Traceback (most recent call last)",
            "\u001b[0;32m<ipython-input-39-a0a22ec39420>\u001b[0m in \u001b[0;36m<cell line: 3>\u001b[0;34m()\u001b[0m\n\u001b[1;32m      1\u001b[0m \u001b[0;32mfor\u001b[0m \u001b[0mmodel_name\u001b[0m\u001b[0;34m,\u001b[0m \u001b[0mmodel\u001b[0m \u001b[0;32min\u001b[0m \u001b[0mestimators_multiclass_latent\u001b[0m\u001b[0;34m.\u001b[0m\u001b[0mitems\u001b[0m\u001b[0;34m(\u001b[0m\u001b[0;34m)\u001b[0m\u001b[0;34m:\u001b[0m\u001b[0;34m\u001b[0m\u001b[0;34m\u001b[0m\u001b[0m\n\u001b[1;32m      2\u001b[0m     \u001b[0my_pred\u001b[0m \u001b[0;34m=\u001b[0m \u001b[0mmodel\u001b[0m\u001b[0;34m.\u001b[0m\u001b[0mpredict\u001b[0m\u001b[0;34m(\u001b[0m\u001b[0mX_test_latent\u001b[0m\u001b[0;34m)\u001b[0m\u001b[0;34m\u001b[0m\u001b[0;34m\u001b[0m\u001b[0m\n\u001b[0;32m----> 3\u001b[0;31m \u001b[0mclassification_report\u001b[0m\u001b[0;34m(\u001b[0m\u001b[0my_test_multiclass\u001b[0m\u001b[0;34m,\u001b[0m \u001b[0my_pred\u001b[0m\u001b[0;34m)\u001b[0m\u001b[0;34m\u001b[0m\u001b[0;34m\u001b[0m\u001b[0m\n\u001b[0m",
            "\u001b[0;31mTypeError\u001b[0m: classification_report() missing 1 required positional argument: 'y_test'"
          ]
        }
      ],
      "source": [
        "for model_name, model in estimators_multiclass_latent.items():\n",
        "    y_pred = model.predict(X_test_latent)\n",
        "classification_report(y_test_multiclass, y_pred)"
      ]
    },
    {
      "cell_type": "code",
      "execution_count": null,
      "metadata": {
        "colab": {
          "base_uri": "https://localhost:8080/"
        },
        "id": "Ue_AjJZ_x3dm",
        "outputId": "607e1eb2-5906-4d81-c96c-8eb3fb1e09d8"
      },
      "outputs": [
        {
          "data": {
            "text/plain": [
              "array([1, 1, 0, ..., 1, 0, 2])"
            ]
          },
          "execution_count": 38,
          "metadata": {},
          "output_type": "execute_result"
        }
      ],
      "source": [
        "y_pred"
      ]
    },
    {
      "cell_type": "code",
      "execution_count": null,
      "metadata": {
        "id": "FOSpgH0qXTjy"
      },
      "outputs": [],
      "source": [
        "#for model_name, model in estimators_multiclass_latent.items():\n",
        "#    y_pred = model.predict(X_test_latent)\n",
        "#cm = pd.crosstab(y_test_multiclass, y_pred, rownames=['Classe réelle'], colnames=['Classe prédite'])\n",
        "#print(cm,'\\n')\n",
        "#estimators_multiclass_latent.items()\n"
      ]
    },
    {
      "cell_type": "code",
      "execution_count": null,
      "metadata": {
        "colab": {
          "base_uri": "https://localhost:8080/"
        },
        "id": "mQ11XjrdkbLp",
        "outputId": "bec7b93d-1e85-4e32-b761-061dfe320d83"
      },
      "outputs": [
        {
          "data": {
            "text/plain": [
              "(1003864, 33)"
            ]
          },
          "execution_count": 31,
          "metadata": {},
          "output_type": "execute_result"
        }
      ],
      "source": [
        "X.shape"
      ]
    },
    {
      "cell_type": "code",
      "execution_count": null,
      "metadata": {
        "colab": {
          "base_uri": "https://localhost:8080/"
        },
        "id": "JlvatjAd5_fU",
        "outputId": "871d45c8-309d-4c91-b346-564c25fd2f8b"
      },
      "outputs": [
        {
          "data": {
            "text/plain": [
              "(2509660, 16)"
            ]
          },
          "execution_count": 39,
          "metadata": {},
          "output_type": "execute_result"
        }
      ],
      "source": [
        "X_latent.shape"
      ]
    },
    {
      "cell_type": "code",
      "execution_count": null,
      "metadata": {
        "colab": {
          "base_uri": "https://localhost:8080/",
          "height": 407
        },
        "id": "l4rf7G4xQqmO",
        "outputId": "3b3bcc83-5dcf-46ec-b326-d4791db14bca"
      },
      "outputs": [
        {
          "name": "stdout",
          "output_type": "stream",
          "text": [
            "[INFO] Performing Grid-Search CV ---- Logistic Regression\n"
          ]
        },
        {
          "ename": "KeyboardInterrupt",
          "evalue": "ignored",
          "output_type": "error",
          "traceback": [
            "\u001b[0;31m---------------------------------------------------------------------------\u001b[0m",
            "\u001b[0;31mKeyboardInterrupt\u001b[0m                         Traceback (most recent call last)",
            "\u001b[0;32m<ipython-input-27-30fbe13edeed>\u001b[0m in \u001b[0;36m<cell line: 3>\u001b[0;34m()\u001b[0m\n\u001b[1;32m      1\u001b[0m \u001b[0;31m## Entraîner et évaluer un modèle multiclass avec les variables d'origine (sans analyse factorielle)\u001b[0m\u001b[0;34m\u001b[0m\u001b[0;34m\u001b[0m\u001b[0m\n\u001b[1;32m      2\u001b[0m \u001b[0mseed\u001b[0m \u001b[0;34m=\u001b[0m \u001b[0;36m42\u001b[0m\u001b[0;34m\u001b[0m\u001b[0;34m\u001b[0m\u001b[0m\n\u001b[0;32m----> 3\u001b[0;31m estimators_multiclass, X_test, y_test_multiclass = train(X, y_multiclass,\n\u001b[0m\u001b[1;32m      4\u001b[0m                                                          \u001b[0mgrid_params_multiclass\u001b[0m\u001b[0;34m,\u001b[0m\u001b[0;34m\u001b[0m\u001b[0;34m\u001b[0m\u001b[0m\n\u001b[1;32m      5\u001b[0m                                                          seed)\n",
            "\u001b[0;32m<ipython-input-19-a1ccafa5b25c>\u001b[0m in \u001b[0;36mtrain\u001b[0;34m(X, y, grid_params, seed)\u001b[0m\n\u001b[1;32m     30\u001b[0m                          verbose=0)\n\u001b[1;32m     31\u001b[0m \u001b[0;34m\u001b[0m\u001b[0m\n\u001b[0;32m---> 32\u001b[0;31m     \u001b[0mmodel\u001b[0m\u001b[0;34m.\u001b[0m\u001b[0mfit\u001b[0m\u001b[0;34m(\u001b[0m\u001b[0mX_train\u001b[0m\u001b[0;34m,\u001b[0m \u001b[0my_train\u001b[0m\u001b[0;34m)\u001b[0m\u001b[0;34m\u001b[0m\u001b[0;34m\u001b[0m\u001b[0m\n\u001b[0m\u001b[1;32m     33\u001b[0m     \u001b[0mbest_estimators\u001b[0m\u001b[0;34m[\u001b[0m\u001b[0mmodel_name\u001b[0m\u001b[0;34m]\u001b[0m \u001b[0;34m=\u001b[0m \u001b[0mmodel\u001b[0m\u001b[0;34m.\u001b[0m\u001b[0mbest_estimator_\u001b[0m\u001b[0;34m\u001b[0m\u001b[0;34m\u001b[0m\u001b[0m\n\u001b[1;32m     34\u001b[0m \u001b[0;34m\u001b[0m\u001b[0m\n",
            "\u001b[0;32m/usr/local/lib/python3.10/dist-packages/sklearn/model_selection/_search.py\u001b[0m in \u001b[0;36mfit\u001b[0;34m(self, X, y, groups, **fit_params)\u001b[0m\n\u001b[1;32m    872\u001b[0m                 \u001b[0;32mreturn\u001b[0m \u001b[0mresults\u001b[0m\u001b[0;34m\u001b[0m\u001b[0;34m\u001b[0m\u001b[0m\n\u001b[1;32m    873\u001b[0m \u001b[0;34m\u001b[0m\u001b[0m\n\u001b[0;32m--> 874\u001b[0;31m             \u001b[0mself\u001b[0m\u001b[0;34m.\u001b[0m\u001b[0m_run_search\u001b[0m\u001b[0;34m(\u001b[0m\u001b[0mevaluate_candidates\u001b[0m\u001b[0;34m)\u001b[0m\u001b[0;34m\u001b[0m\u001b[0;34m\u001b[0m\u001b[0m\n\u001b[0m\u001b[1;32m    875\u001b[0m \u001b[0;34m\u001b[0m\u001b[0m\n\u001b[1;32m    876\u001b[0m             \u001b[0;31m# multimetric is determined here because in the case of a callable\u001b[0m\u001b[0;34m\u001b[0m\u001b[0;34m\u001b[0m\u001b[0m\n",
            "\u001b[0;32m/usr/local/lib/python3.10/dist-packages/sklearn/model_selection/_search.py\u001b[0m in \u001b[0;36m_run_search\u001b[0;34m(self, evaluate_candidates)\u001b[0m\n\u001b[1;32m   1386\u001b[0m     \u001b[0;32mdef\u001b[0m \u001b[0m_run_search\u001b[0m\u001b[0;34m(\u001b[0m\u001b[0mself\u001b[0m\u001b[0;34m,\u001b[0m \u001b[0mevaluate_candidates\u001b[0m\u001b[0;34m)\u001b[0m\u001b[0;34m:\u001b[0m\u001b[0;34m\u001b[0m\u001b[0;34m\u001b[0m\u001b[0m\n\u001b[1;32m   1387\u001b[0m         \u001b[0;34m\"\"\"Search all candidates in param_grid\"\"\"\u001b[0m\u001b[0;34m\u001b[0m\u001b[0;34m\u001b[0m\u001b[0m\n\u001b[0;32m-> 1388\u001b[0;31m         \u001b[0mevaluate_candidates\u001b[0m\u001b[0;34m(\u001b[0m\u001b[0mParameterGrid\u001b[0m\u001b[0;34m(\u001b[0m\u001b[0mself\u001b[0m\u001b[0;34m.\u001b[0m\u001b[0mparam_grid\u001b[0m\u001b[0;34m)\u001b[0m\u001b[0;34m)\u001b[0m\u001b[0;34m\u001b[0m\u001b[0;34m\u001b[0m\u001b[0m\n\u001b[0m\u001b[1;32m   1389\u001b[0m \u001b[0;34m\u001b[0m\u001b[0m\n\u001b[1;32m   1390\u001b[0m \u001b[0;34m\u001b[0m\u001b[0m\n",
            "\u001b[0;32m/usr/local/lib/python3.10/dist-packages/sklearn/model_selection/_search.py\u001b[0m in \u001b[0;36mevaluate_candidates\u001b[0;34m(candidate_params, cv, more_results)\u001b[0m\n\u001b[1;32m    819\u001b[0m                     )\n\u001b[1;32m    820\u001b[0m \u001b[0;34m\u001b[0m\u001b[0m\n\u001b[0;32m--> 821\u001b[0;31m                 out = parallel(\n\u001b[0m\u001b[1;32m    822\u001b[0m                     delayed(_fit_and_score)(\n\u001b[1;32m    823\u001b[0m                         \u001b[0mclone\u001b[0m\u001b[0;34m(\u001b[0m\u001b[0mbase_estimator\u001b[0m\u001b[0;34m)\u001b[0m\u001b[0;34m,\u001b[0m\u001b[0;34m\u001b[0m\u001b[0;34m\u001b[0m\u001b[0m\n",
            "\u001b[0;32m/usr/local/lib/python3.10/dist-packages/sklearn/utils/parallel.py\u001b[0m in \u001b[0;36m__call__\u001b[0;34m(self, iterable)\u001b[0m\n\u001b[1;32m     61\u001b[0m             \u001b[0;32mfor\u001b[0m \u001b[0mdelayed_func\u001b[0m\u001b[0;34m,\u001b[0m \u001b[0margs\u001b[0m\u001b[0;34m,\u001b[0m \u001b[0mkwargs\u001b[0m \u001b[0;32min\u001b[0m \u001b[0miterable\u001b[0m\u001b[0;34m\u001b[0m\u001b[0;34m\u001b[0m\u001b[0m\n\u001b[1;32m     62\u001b[0m         )\n\u001b[0;32m---> 63\u001b[0;31m         \u001b[0;32mreturn\u001b[0m \u001b[0msuper\u001b[0m\u001b[0;34m(\u001b[0m\u001b[0;34m)\u001b[0m\u001b[0;34m.\u001b[0m\u001b[0m__call__\u001b[0m\u001b[0;34m(\u001b[0m\u001b[0miterable_with_config\u001b[0m\u001b[0;34m)\u001b[0m\u001b[0;34m\u001b[0m\u001b[0;34m\u001b[0m\u001b[0m\n\u001b[0m\u001b[1;32m     64\u001b[0m \u001b[0;34m\u001b[0m\u001b[0m\n\u001b[1;32m     65\u001b[0m \u001b[0;34m\u001b[0m\u001b[0m\n",
            "\u001b[0;32m/usr/local/lib/python3.10/dist-packages/joblib/parallel.py\u001b[0m in \u001b[0;36m__call__\u001b[0;34m(self, iterable)\u001b[0m\n\u001b[1;32m   1950\u001b[0m         \u001b[0mnext\u001b[0m\u001b[0;34m(\u001b[0m\u001b[0moutput\u001b[0m\u001b[0;34m)\u001b[0m\u001b[0;34m\u001b[0m\u001b[0;34m\u001b[0m\u001b[0m\n\u001b[1;32m   1951\u001b[0m \u001b[0;34m\u001b[0m\u001b[0m\n\u001b[0;32m-> 1952\u001b[0;31m         \u001b[0;32mreturn\u001b[0m \u001b[0moutput\u001b[0m \u001b[0;32mif\u001b[0m \u001b[0mself\u001b[0m\u001b[0;34m.\u001b[0m\u001b[0mreturn_generator\u001b[0m \u001b[0;32melse\u001b[0m \u001b[0mlist\u001b[0m\u001b[0;34m(\u001b[0m\u001b[0moutput\u001b[0m\u001b[0;34m)\u001b[0m\u001b[0;34m\u001b[0m\u001b[0;34m\u001b[0m\u001b[0m\n\u001b[0m\u001b[1;32m   1953\u001b[0m \u001b[0;34m\u001b[0m\u001b[0m\n\u001b[1;32m   1954\u001b[0m     \u001b[0;32mdef\u001b[0m \u001b[0m__repr__\u001b[0m\u001b[0;34m(\u001b[0m\u001b[0mself\u001b[0m\u001b[0;34m)\u001b[0m\u001b[0;34m:\u001b[0m\u001b[0;34m\u001b[0m\u001b[0;34m\u001b[0m\u001b[0m\n",
            "\u001b[0;32m/usr/local/lib/python3.10/dist-packages/joblib/parallel.py\u001b[0m in \u001b[0;36m_get_outputs\u001b[0;34m(self, iterator, pre_dispatch)\u001b[0m\n\u001b[1;32m   1593\u001b[0m \u001b[0;34m\u001b[0m\u001b[0m\n\u001b[1;32m   1594\u001b[0m             \u001b[0;32mwith\u001b[0m \u001b[0mself\u001b[0m\u001b[0;34m.\u001b[0m\u001b[0m_backend\u001b[0m\u001b[0;34m.\u001b[0m\u001b[0mretrieval_context\u001b[0m\u001b[0;34m(\u001b[0m\u001b[0;34m)\u001b[0m\u001b[0;34m:\u001b[0m\u001b[0;34m\u001b[0m\u001b[0;34m\u001b[0m\u001b[0m\n\u001b[0;32m-> 1595\u001b[0;31m                 \u001b[0;32myield\u001b[0m \u001b[0;32mfrom\u001b[0m \u001b[0mself\u001b[0m\u001b[0;34m.\u001b[0m\u001b[0m_retrieve\u001b[0m\u001b[0;34m(\u001b[0m\u001b[0;34m)\u001b[0m\u001b[0;34m\u001b[0m\u001b[0;34m\u001b[0m\u001b[0m\n\u001b[0m\u001b[1;32m   1596\u001b[0m \u001b[0;34m\u001b[0m\u001b[0m\n\u001b[1;32m   1597\u001b[0m         \u001b[0;32mexcept\u001b[0m \u001b[0mGeneratorExit\u001b[0m\u001b[0;34m:\u001b[0m\u001b[0;34m\u001b[0m\u001b[0;34m\u001b[0m\u001b[0m\n",
            "\u001b[0;32m/usr/local/lib/python3.10/dist-packages/joblib/parallel.py\u001b[0m in \u001b[0;36m_retrieve\u001b[0;34m(self)\u001b[0m\n\u001b[1;32m   1705\u001b[0m                 (self._jobs[0].get_status(\n\u001b[1;32m   1706\u001b[0m                     timeout=self.timeout) == TASK_PENDING)):\n\u001b[0;32m-> 1707\u001b[0;31m                 \u001b[0mtime\u001b[0m\u001b[0;34m.\u001b[0m\u001b[0msleep\u001b[0m\u001b[0;34m(\u001b[0m\u001b[0;36m0.01\u001b[0m\u001b[0;34m)\u001b[0m\u001b[0;34m\u001b[0m\u001b[0;34m\u001b[0m\u001b[0m\n\u001b[0m\u001b[1;32m   1708\u001b[0m                 \u001b[0;32mcontinue\u001b[0m\u001b[0;34m\u001b[0m\u001b[0;34m\u001b[0m\u001b[0m\n\u001b[1;32m   1709\u001b[0m \u001b[0;34m\u001b[0m\u001b[0m\n",
            "\u001b[0;31mKeyboardInterrupt\u001b[0m: "
          ]
        }
      ],
      "source": [
        "## Entraîner et évaluer un modèle multiclass avec les variables d'origine (sans analyse factorielle)\n",
        "seed = 42\n",
        "estimators_multiclass, X_test, y_test_multiclass = train(X, y_multiclass,\n",
        "                                                         grid_params_multiclass,\n",
        "                                                         seed)\n",
        "\n",
        "evaluate_multiclass(estimators_multiclass, X_test, y_test_multiclass)"
      ]
    },
    {
      "cell_type": "code",
      "execution_count": null,
      "metadata": {
        "id": "mdQ_gmL5gcBh"
      },
      "outputs": [],
      "source": [
        "def classification_report(models, X_test, y_test):\n",
        "  best_overall_accuracy = -1\n",
        "  best_model = \"\"\n",
        "  n_samples = len(y_test)\n",
        "\n",
        "  for model_name, model in models.items():\n",
        "    y_pred = model.predict(X_test)\n",
        "    C = classification_report(y_test, y_pred)\n",
        "    overall_accuracy = np.sum(y_pred == y_test) / n_samples\n",
        "\n",
        "    if overall_accuracy > best_overall_accuracy:\n",
        "      best_overall_accuracy = overall_accuracy\n",
        "      best_model = model_name\n",
        "\n",
        "  #print(\"{}\\nOverall accuracy = {:.4f}\".format(best_model, best_overall_accuracy))\n",
        "  return print(C)\n",
        "\n",
        "classifition = classification_report(estimators_multiclass, X_test, y_test_multiclass)"
      ]
    },
    {
      "cell_type": "code",
      "execution_count": null,
      "metadata": {
        "id": "eciDT7izZcLA"
      },
      "outputs": [],
      "source": [
        "#def confusion_m(models, X_test, y_test):\n",
        "#  best_overall_accuracy = -1\n",
        "#  best_model = \"\"\n",
        "#  n_samples = len(y_test)\n",
        "\n",
        "#  for model_name, model in models.items():\n",
        "#    y_pred = model.predict(X_test)\n",
        "#    cnf_matrix = confusion_matrix(y_test, y_pred)\n",
        "#    overall_accuracy = np.sum(y_pred == y_test) / n_samples\n",
        "\n",
        "#    if overall_accuracy > best_overall_accuracy:\n",
        "#      best_overall_accuracy = overall_accuracy\n",
        "#      best_model = model_name\n",
        "\n",
        "  #print(\"{}\\nOverall accuracy = {:.4f}\".format(best_model, best_overall_accuracy))\n",
        "#  return print(cnf_matrix)\n",
        "\n",
        "#cnf_matrix = confusion_m(estimators_multiclass, X_test, y_test_multiclass)"
      ]
    },
    {
      "cell_type": "code",
      "execution_count": null,
      "metadata": {
        "id": "PctcpuDRmF8h"
      },
      "outputs": [],
      "source": [
        "#cnf_matrix = confusion_m(estimators_multiclass, X_test, y_test_multiclass)"
      ]
    },
    {
      "cell_type": "code",
      "execution_count": null,
      "metadata": {
        "id": "KweAURceZcvl"
      },
      "outputs": [],
      "source": [
        "#Evaluation\n",
        "#model=lr\n",
        "#y_pred=model.predict(X_test)\n",
        "\n",
        "#cm = pd.crosstab(y_test, y_pred, rownames=['Classe réelle'], colnames=['Classe prédite'])\n",
        "#print(model,'\\n')\n",
        "#print(cm,'\\n')\n",
        "#report = classification_report(y_test, y_pred)\n",
        "#print(report,'\\n')"
      ]
    },
    {
      "cell_type": "markdown",
      "metadata": {
        "id": "KpwTsNqrh39W"
      },
      "source": [
        "# Binaire classification - Analyse factorielle"
      ]
    },
    {
      "cell_type": "code",
      "execution_count": null,
      "metadata": {
        "id": "UGXcAPBZh9nq"
      },
      "outputs": [],
      "source": [
        "def evaluate_binary(models, X_test, y_test):\n",
        "\n",
        "  results = pd.DataFrame(columns=[\"accuracy\", \"Precision\", \"Recall\", \"F1 Score\"],\n",
        "                         index=models.keys())\n",
        "\n",
        "  for model_name, model in models.items():\n",
        "    y_pred = model.predict(X_test)\n",
        "\n",
        "    accuracy = accuracy_score(y_test, y_pred)\n",
        "    recall = recall_score(y_test, y_pred)\n",
        "    precision = precision_score(y_test, y_pred)\n",
        "    f1 = f1_score(y_test, y_pred)\n",
        "\n",
        "    results.loc[model_name, :] = accuracy, precision, recall, f1\n",
        "\n",
        "  return results"
      ]
    },
    {
      "cell_type": "code",
      "execution_count": null,
      "metadata": {
        "id": "Hg-6_-uKsG7E"
      },
      "outputs": [],
      "source": [
        "# choose best models based on accuracy\n",
        "def select_binary_model(models, X_test, y_test):\n",
        "  best_accuracy = -1\n",
        "  best_model = \"\"\n",
        "  for model_name, model in models.items():\n",
        "    y_pred = model.predict(X_test)\n",
        "    accuracy = accuracy_score(y_test, y_pred)\n",
        "    if accuracy > best_accuracy:\n",
        "      best_accuracy = accuracy\n",
        "      best_model = model_name\n",
        "\n",
        "  print(\"{}\\naccuracy = {:.4f}\".format(best_model, best_accuracy))\n",
        "  return models[best_model]"
      ]
    },
    {
      "cell_type": "code",
      "execution_count": null,
      "metadata": {
        "id": "3Ghc7sb7sMpk"
      },
      "outputs": [],
      "source": [
        "grid_params_binary = {\n",
        "   # \"SGD\": {\n",
        "   #     \"penalty\": [\"l1\", \"l2\", \"elasticnet\"],\n",
        "   #     \"alpha\": np.linspace(1e-5, 1e-3, 5),\n",
        "   #     \"learning_rate\": [\"optimal\", \"invscaling\", \"adaptive\"],\n",
        "   #     \"eta0\": np.linspace(1e-4, 1e-1, 5)\n",
        "   # },\n",
        "    \"Logistic Regression\": {\n",
        "        \"penalty\": [\"l1\"],\n",
        "        \"C\": [0.01],\n",
        "        \"solver\": [\"liblinear\"]\n",
        "    }\n",
        "   #    \"Logistic Regression\": {\n",
        "   #     \"penalty\": [\"l1\", \"l2\"],\n",
        "   #     \"C\": [1, 2, 4, 5],\n",
        "   #     \"solver\": [\"liblinear\"]\n",
        "   # }\n",
        "   # \"Random Forest\": {\n",
        "   #     \"criterion\": [\"gini\", \"entropy\"],\n",
        "   #     \"max_depth\": np.linspace(3, 12, 4, dtype=np.int64),\n",
        "   #     \"min_samples_split\": np.linspace(0.1, 0.5, 6),\n",
        "   #     \"min_samples_leaf\": np.linspace(0.1, 0.5, 6),\n",
        "   #     \"max_features\":[\"log2\",\"sqrt\"]\n",
        "   # },\n",
        "   # \"AdaBoost\": {\n",
        "   #     \"base_estimator\": [DecisionTreeClassifier(max_depth=1),\n",
        "   #                        DecisionTreeClassifier(max_depth=2),\n",
        "   #                        DecisionTreeClassifier(max_depth=3)],\n",
        "   #     \"learning_rate\": [0.01, 0.025, 0.05, 0.075, 0.1],\n",
        "   #     \"n_estimators\": np.linspace(20, 80, 4, dtype=np.int64),\n",
        "   # },\n",
        "   # \"GradientBoost\": {\n",
        "   #     \"loss\":[\"deviance\"],\n",
        "   #     \"learning_rate\": [0.01, 0.025, 0.05, 0.075],\n",
        "   #     \"min_samples_split\": np.linspace(0.1, 0.5, 5),\n",
        "   #     \"min_samples_leaf\": np.linspace(0.1, 0.5, 5),\n",
        "   #     \"max_depth\":[3, 5, 8],\n",
        "   #     \"max_features\":[\"log2\",\"sqrt\"],\n",
        "   #     \"criterion\": [\"friedman_mse\"],\n",
        "   #     \"subsample\":[0.5, 0.618, 0.85],\n",
        "   #     \"n_estimators\":[5, 10, 15]\n",
        "   # }\n",
        "}"
      ]
    },
    {
      "cell_type": "code",
      "execution_count": null,
      "metadata": {
        "id": "z7zDxyQLsWQJ"
      },
      "outputs": [],
      "source": [
        "# Entraîner et évaluer un modèle binaire avec des variables d'analyse factorielle (latent)\n",
        "estimators_binary_latent, X_test_latent, y_test_binary = train(X_latent,\n",
        "                                                               y_binary,\n",
        "                                                               grid_params_binary,\n",
        "                                                               seed)\n",
        "\n",
        "evaluate_binary(estimators_binary_latent, X_test_latent, y_test_binary)"
      ]
    },
    {
      "cell_type": "code",
      "execution_count": null,
      "metadata": {
        "id": "oIupMD-xsdE7"
      },
      "outputs": [],
      "source": [
        "# Entraîner et évaluer un modèle binaire avec les variables d'origine (sans analyse factorielle)\n",
        "estimators_binary, X_test, y_test_binary = train(X, y_binary,\n",
        "                                                 grid_params_binary,\n",
        "                                                 seed)\n",
        "\n",
        "evaluate_binary(estimators_binary, X_test, y_test_binary)"
      ]
    }
  ],
  "metadata": {
    "colab": {
      "provenance": [],
      "mount_file_id": "1I7NfPGRKI3VA1lnmEdstzKM4repj1aEG",
      "authorship_tag": "ABX9TyPPEGqPh7BNX1lwBhnckzvB",
      "include_colab_link": true
    },
    "kernelspec": {
      "display_name": "Python 3",
      "name": "python3"
    },
    "language_info": {
      "name": "python"
    }
  },
  "nbformat": 4,
  "nbformat_minor": 0
}